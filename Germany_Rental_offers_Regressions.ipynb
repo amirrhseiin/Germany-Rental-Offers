{
  "nbformat": 4,
  "nbformat_minor": 0,
  "metadata": {
    "colab": {
      "provenance": [],
      "collapsed_sections": [],
      "authorship_tag": "ABX9TyO8lrwHZMzH0HVF8CjIdiCU",
      "include_colab_link": true
    },
    "kernelspec": {
      "name": "python3",
      "display_name": "Python 3"
    },
    "language_info": {
      "name": "python"
    }
  },
  "cells": [
    {
      "cell_type": "markdown",
      "metadata": {
        "id": "view-in-github",
        "colab_type": "text"
      },
      "source": [
        "<a href=\"https://colab.research.google.com/github/amirrhseiin/Germany-Rental-Offers/blob/main/Germany_Rental_offers_Regressions.ipynb\" target=\"_parent\"><img src=\"https://colab.research.google.com/assets/colab-badge.svg\" alt=\"Open In Colab\"/></a>"
      ]
    },
    {
      "cell_type": "code",
      "source": [
        "from google.colab import drive\n",
        "drive.mount('/content/drive')"
      ],
      "metadata": {
        "colab": {
          "base_uri": "https://localhost:8080/"
        },
        "id": "FGcXyMrjHDc3",
        "outputId": "38004176-5802-4fef-c434-34e0253de1c1"
      },
      "execution_count": null,
      "outputs": [
        {
          "output_type": "stream",
          "name": "stdout",
          "text": [
            "Drive already mounted at /content/drive; to attempt to forcibly remount, call drive.mount(\"/content/drive\", force_remount=True).\n"
          ]
        }
      ]
    },
    {
      "cell_type": "code",
      "source": [
        "from sklearn.metrics import mean_squared_error\n",
        "from sklearn.utils import shuffle\n",
        "import pandas as pd\n",
        "import numpy as np\n",
        "from sklearn.model_selection import train_test_split\n",
        "from sklearn.preprocessing import StandardScaler\n",
        "from sklearn.linear_model import LinearRegression\n",
        "from sklearn.model_selection import cross_val_score\n",
        "from sklearn.linear_model import Ridge\n",
        "from sklearn.linear_model import Lasso"
      ],
      "metadata": {
        "id": "4A70ZBroGbCm"
      },
      "execution_count": null,
      "outputs": []
    },
    {
      "cell_type": "code",
      "source": [
        "data = pd.read_csv(\"/content/drive/MyDrive/ML/EX1/part2/archive.zip\")"
      ],
      "metadata": {
        "id": "WsGr1IkbHH2s"
      },
      "execution_count": null,
      "outputs": []
    },
    {
      "cell_type": "code",
      "source": [
        "num_values = {\"serviceCharge\": data.serviceCharge.mean(), \"telekomUploadSpeed\": 0, \"heatingType\": data.heatingType.mode()[0]}\n",
        "data.fillna(value=num_values, inplace=True)\n",
        "\n",
        "data = data[['serviceCharge', 'telekomUploadSpeed', 'heatingType', 'livingSpace']]\n",
        "\n",
        "data.isna().sum()"
      ],
      "metadata": {
        "colab": {
          "base_uri": "https://localhost:8080/"
        },
        "id": "kYe0lolWLNv-",
        "outputId": "b0c85bca-bbdb-4cd6-fba4-783d5169bd3d"
      },
      "execution_count": null,
      "outputs": [
        {
          "output_type": "execute_result",
          "data": {
            "text/plain": [
              "serviceCharge         0\n",
              "telekomUploadSpeed    0\n",
              "heatingType           0\n",
              "livingSpace           0\n",
              "dtype: int64"
            ]
          },
          "metadata": {},
          "execution_count": 4
        }
      ]
    },
    {
      "cell_type": "code",
      "source": [
        "data.sample(3)"
      ],
      "metadata": {
        "colab": {
          "base_uri": "https://localhost:8080/",
          "height": 143
        },
        "id": "1-PKdFUwM8p8",
        "outputId": "acacf3fa-9313-4762-ccfd-d25b464cd0b2"
      },
      "execution_count": null,
      "outputs": [
        {
          "output_type": "execute_result",
          "data": {
            "text/plain": [
              "        serviceCharge  telekomUploadSpeed       heatingType  livingSpace\n",
              "212049          180.0                40.0  district_heating        60.00\n",
              "118028           64.0                40.0  district_heating        49.00\n",
              "68542           180.0                40.0     floor_heating       120.01"
            ],
            "text/html": [
              "\n",
              "  <div id=\"df-5d849af1-6239-4fc1-9d6d-31e588064b96\">\n",
              "    <div class=\"colab-df-container\">\n",
              "      <div>\n",
              "<style scoped>\n",
              "    .dataframe tbody tr th:only-of-type {\n",
              "        vertical-align: middle;\n",
              "    }\n",
              "\n",
              "    .dataframe tbody tr th {\n",
              "        vertical-align: top;\n",
              "    }\n",
              "\n",
              "    .dataframe thead th {\n",
              "        text-align: right;\n",
              "    }\n",
              "</style>\n",
              "<table border=\"1\" class=\"dataframe\">\n",
              "  <thead>\n",
              "    <tr style=\"text-align: right;\">\n",
              "      <th></th>\n",
              "      <th>serviceCharge</th>\n",
              "      <th>telekomUploadSpeed</th>\n",
              "      <th>heatingType</th>\n",
              "      <th>livingSpace</th>\n",
              "    </tr>\n",
              "  </thead>\n",
              "  <tbody>\n",
              "    <tr>\n",
              "      <th>212049</th>\n",
              "      <td>180.0</td>\n",
              "      <td>40.0</td>\n",
              "      <td>district_heating</td>\n",
              "      <td>60.00</td>\n",
              "    </tr>\n",
              "    <tr>\n",
              "      <th>118028</th>\n",
              "      <td>64.0</td>\n",
              "      <td>40.0</td>\n",
              "      <td>district_heating</td>\n",
              "      <td>49.00</td>\n",
              "    </tr>\n",
              "    <tr>\n",
              "      <th>68542</th>\n",
              "      <td>180.0</td>\n",
              "      <td>40.0</td>\n",
              "      <td>floor_heating</td>\n",
              "      <td>120.01</td>\n",
              "    </tr>\n",
              "  </tbody>\n",
              "</table>\n",
              "</div>\n",
              "      <button class=\"colab-df-convert\" onclick=\"convertToInteractive('df-5d849af1-6239-4fc1-9d6d-31e588064b96')\"\n",
              "              title=\"Convert this dataframe to an interactive table.\"\n",
              "              style=\"display:none;\">\n",
              "        \n",
              "  <svg xmlns=\"http://www.w3.org/2000/svg\" height=\"24px\"viewBox=\"0 0 24 24\"\n",
              "       width=\"24px\">\n",
              "    <path d=\"M0 0h24v24H0V0z\" fill=\"none\"/>\n",
              "    <path d=\"M18.56 5.44l.94 2.06.94-2.06 2.06-.94-2.06-.94-.94-2.06-.94 2.06-2.06.94zm-11 1L8.5 8.5l.94-2.06 2.06-.94-2.06-.94L8.5 2.5l-.94 2.06-2.06.94zm10 10l.94 2.06.94-2.06 2.06-.94-2.06-.94-.94-2.06-.94 2.06-2.06.94z\"/><path d=\"M17.41 7.96l-1.37-1.37c-.4-.4-.92-.59-1.43-.59-.52 0-1.04.2-1.43.59L10.3 9.45l-7.72 7.72c-.78.78-.78 2.05 0 2.83L4 21.41c.39.39.9.59 1.41.59.51 0 1.02-.2 1.41-.59l7.78-7.78 2.81-2.81c.8-.78.8-2.07 0-2.86zM5.41 20L4 18.59l7.72-7.72 1.47 1.35L5.41 20z\"/>\n",
              "  </svg>\n",
              "      </button>\n",
              "      \n",
              "  <style>\n",
              "    .colab-df-container {\n",
              "      display:flex;\n",
              "      flex-wrap:wrap;\n",
              "      gap: 12px;\n",
              "    }\n",
              "\n",
              "    .colab-df-convert {\n",
              "      background-color: #E8F0FE;\n",
              "      border: none;\n",
              "      border-radius: 50%;\n",
              "      cursor: pointer;\n",
              "      display: none;\n",
              "      fill: #1967D2;\n",
              "      height: 32px;\n",
              "      padding: 0 0 0 0;\n",
              "      width: 32px;\n",
              "    }\n",
              "\n",
              "    .colab-df-convert:hover {\n",
              "      background-color: #E2EBFA;\n",
              "      box-shadow: 0px 1px 2px rgba(60, 64, 67, 0.3), 0px 1px 3px 1px rgba(60, 64, 67, 0.15);\n",
              "      fill: #174EA6;\n",
              "    }\n",
              "\n",
              "    [theme=dark] .colab-df-convert {\n",
              "      background-color: #3B4455;\n",
              "      fill: #D2E3FC;\n",
              "    }\n",
              "\n",
              "    [theme=dark] .colab-df-convert:hover {\n",
              "      background-color: #434B5C;\n",
              "      box-shadow: 0px 1px 3px 1px rgba(0, 0, 0, 0.15);\n",
              "      filter: drop-shadow(0px 1px 2px rgba(0, 0, 0, 0.3));\n",
              "      fill: #FFFFFF;\n",
              "    }\n",
              "  </style>\n",
              "\n",
              "      <script>\n",
              "        const buttonEl =\n",
              "          document.querySelector('#df-5d849af1-6239-4fc1-9d6d-31e588064b96 button.colab-df-convert');\n",
              "        buttonEl.style.display =\n",
              "          google.colab.kernel.accessAllowed ? 'block' : 'none';\n",
              "\n",
              "        async function convertToInteractive(key) {\n",
              "          const element = document.querySelector('#df-5d849af1-6239-4fc1-9d6d-31e588064b96');\n",
              "          const dataTable =\n",
              "            await google.colab.kernel.invokeFunction('convertToInteractive',\n",
              "                                                     [key], {});\n",
              "          if (!dataTable) return;\n",
              "\n",
              "          const docLinkHtml = 'Like what you see? Visit the ' +\n",
              "            '<a target=\"_blank\" href=https://colab.research.google.com/notebooks/data_table.ipynb>data table notebook</a>'\n",
              "            + ' to learn more about interactive tables.';\n",
              "          element.innerHTML = '';\n",
              "          dataTable['output_type'] = 'display_data';\n",
              "          await google.colab.output.renderOutput(dataTable, element);\n",
              "          const docLink = document.createElement('div');\n",
              "          docLink.innerHTML = docLinkHtml;\n",
              "          element.appendChild(docLink);\n",
              "        }\n",
              "      </script>\n",
              "    </div>\n",
              "  </div>\n",
              "  "
            ]
          },
          "metadata": {},
          "execution_count": 5
        }
      ]
    },
    {
      "cell_type": "code",
      "source": [
        "d = pd.get_dummies(data.heatingType, prefix='heatingType')\n",
        "d['telekomUploadSpeed'] = data['telekomUploadSpeed']\n",
        "d['livingSpace'] = data['livingSpace']\n",
        "d['serviceCharge'] = data['serviceCharge']\n",
        "d.sample(3)"
      ],
      "metadata": {
        "colab": {
          "base_uri": "https://localhost:8080/",
          "height": 207
        },
        "id": "KBxDJp5DMpP-",
        "outputId": "cf4fb1b6-7802-4369-f603-989a0b9af58e"
      },
      "execution_count": null,
      "outputs": [
        {
          "output_type": "execute_result",
          "data": {
            "text/plain": [
              "        heatingType_central_heating  \\\n",
              "161181                            1   \n",
              "189713                            1   \n",
              "101048                            1   \n",
              "\n",
              "        heatingType_combined_heat_and_power_plant  \\\n",
              "161181                                          0   \n",
              "189713                                          0   \n",
              "101048                                          0   \n",
              "\n",
              "        heatingType_district_heating  heatingType_electric_heating  \\\n",
              "161181                             0                             0   \n",
              "189713                             0                             0   \n",
              "101048                             0                             0   \n",
              "\n",
              "        heatingType_floor_heating  heatingType_gas_heating  \\\n",
              "161181                          0                        0   \n",
              "189713                          0                        0   \n",
              "101048                          0                        0   \n",
              "\n",
              "        heatingType_heat_pump  heatingType_night_storage_heater  \\\n",
              "161181                      0                                 0   \n",
              "189713                      0                                 0   \n",
              "101048                      0                                 0   \n",
              "\n",
              "        heatingType_oil_heating  heatingType_self_contained_central_heating  \\\n",
              "161181                        0                                           0   \n",
              "189713                        0                                           0   \n",
              "101048                        0                                           0   \n",
              "\n",
              "        heatingType_solar_heating  heatingType_stove_heating  \\\n",
              "161181                          0                          0   \n",
              "189713                          0                          0   \n",
              "101048                          0                          0   \n",
              "\n",
              "        heatingType_wood_pellet_heating  telekomUploadSpeed  livingSpace  \\\n",
              "161181                                0                40.0        58.24   \n",
              "189713                                0                10.0        90.00   \n",
              "101048                                0                40.0        68.00   \n",
              "\n",
              "        serviceCharge  \n",
              "161181          120.0  \n",
              "189713          250.0  \n",
              "101048           90.0  "
            ],
            "text/html": [
              "\n",
              "  <div id=\"df-4748a775-a599-486f-8a6e-35068a34a440\">\n",
              "    <div class=\"colab-df-container\">\n",
              "      <div>\n",
              "<style scoped>\n",
              "    .dataframe tbody tr th:only-of-type {\n",
              "        vertical-align: middle;\n",
              "    }\n",
              "\n",
              "    .dataframe tbody tr th {\n",
              "        vertical-align: top;\n",
              "    }\n",
              "\n",
              "    .dataframe thead th {\n",
              "        text-align: right;\n",
              "    }\n",
              "</style>\n",
              "<table border=\"1\" class=\"dataframe\">\n",
              "  <thead>\n",
              "    <tr style=\"text-align: right;\">\n",
              "      <th></th>\n",
              "      <th>heatingType_central_heating</th>\n",
              "      <th>heatingType_combined_heat_and_power_plant</th>\n",
              "      <th>heatingType_district_heating</th>\n",
              "      <th>heatingType_electric_heating</th>\n",
              "      <th>heatingType_floor_heating</th>\n",
              "      <th>heatingType_gas_heating</th>\n",
              "      <th>heatingType_heat_pump</th>\n",
              "      <th>heatingType_night_storage_heater</th>\n",
              "      <th>heatingType_oil_heating</th>\n",
              "      <th>heatingType_self_contained_central_heating</th>\n",
              "      <th>heatingType_solar_heating</th>\n",
              "      <th>heatingType_stove_heating</th>\n",
              "      <th>heatingType_wood_pellet_heating</th>\n",
              "      <th>telekomUploadSpeed</th>\n",
              "      <th>livingSpace</th>\n",
              "      <th>serviceCharge</th>\n",
              "    </tr>\n",
              "  </thead>\n",
              "  <tbody>\n",
              "    <tr>\n",
              "      <th>161181</th>\n",
              "      <td>1</td>\n",
              "      <td>0</td>\n",
              "      <td>0</td>\n",
              "      <td>0</td>\n",
              "      <td>0</td>\n",
              "      <td>0</td>\n",
              "      <td>0</td>\n",
              "      <td>0</td>\n",
              "      <td>0</td>\n",
              "      <td>0</td>\n",
              "      <td>0</td>\n",
              "      <td>0</td>\n",
              "      <td>0</td>\n",
              "      <td>40.0</td>\n",
              "      <td>58.24</td>\n",
              "      <td>120.0</td>\n",
              "    </tr>\n",
              "    <tr>\n",
              "      <th>189713</th>\n",
              "      <td>1</td>\n",
              "      <td>0</td>\n",
              "      <td>0</td>\n",
              "      <td>0</td>\n",
              "      <td>0</td>\n",
              "      <td>0</td>\n",
              "      <td>0</td>\n",
              "      <td>0</td>\n",
              "      <td>0</td>\n",
              "      <td>0</td>\n",
              "      <td>0</td>\n",
              "      <td>0</td>\n",
              "      <td>0</td>\n",
              "      <td>10.0</td>\n",
              "      <td>90.00</td>\n",
              "      <td>250.0</td>\n",
              "    </tr>\n",
              "    <tr>\n",
              "      <th>101048</th>\n",
              "      <td>1</td>\n",
              "      <td>0</td>\n",
              "      <td>0</td>\n",
              "      <td>0</td>\n",
              "      <td>0</td>\n",
              "      <td>0</td>\n",
              "      <td>0</td>\n",
              "      <td>0</td>\n",
              "      <td>0</td>\n",
              "      <td>0</td>\n",
              "      <td>0</td>\n",
              "      <td>0</td>\n",
              "      <td>0</td>\n",
              "      <td>40.0</td>\n",
              "      <td>68.00</td>\n",
              "      <td>90.0</td>\n",
              "    </tr>\n",
              "  </tbody>\n",
              "</table>\n",
              "</div>\n",
              "      <button class=\"colab-df-convert\" onclick=\"convertToInteractive('df-4748a775-a599-486f-8a6e-35068a34a440')\"\n",
              "              title=\"Convert this dataframe to an interactive table.\"\n",
              "              style=\"display:none;\">\n",
              "        \n",
              "  <svg xmlns=\"http://www.w3.org/2000/svg\" height=\"24px\"viewBox=\"0 0 24 24\"\n",
              "       width=\"24px\">\n",
              "    <path d=\"M0 0h24v24H0V0z\" fill=\"none\"/>\n",
              "    <path d=\"M18.56 5.44l.94 2.06.94-2.06 2.06-.94-2.06-.94-.94-2.06-.94 2.06-2.06.94zm-11 1L8.5 8.5l.94-2.06 2.06-.94-2.06-.94L8.5 2.5l-.94 2.06-2.06.94zm10 10l.94 2.06.94-2.06 2.06-.94-2.06-.94-.94-2.06-.94 2.06-2.06.94z\"/><path d=\"M17.41 7.96l-1.37-1.37c-.4-.4-.92-.59-1.43-.59-.52 0-1.04.2-1.43.59L10.3 9.45l-7.72 7.72c-.78.78-.78 2.05 0 2.83L4 21.41c.39.39.9.59 1.41.59.51 0 1.02-.2 1.41-.59l7.78-7.78 2.81-2.81c.8-.78.8-2.07 0-2.86zM5.41 20L4 18.59l7.72-7.72 1.47 1.35L5.41 20z\"/>\n",
              "  </svg>\n",
              "      </button>\n",
              "      \n",
              "  <style>\n",
              "    .colab-df-container {\n",
              "      display:flex;\n",
              "      flex-wrap:wrap;\n",
              "      gap: 12px;\n",
              "    }\n",
              "\n",
              "    .colab-df-convert {\n",
              "      background-color: #E8F0FE;\n",
              "      border: none;\n",
              "      border-radius: 50%;\n",
              "      cursor: pointer;\n",
              "      display: none;\n",
              "      fill: #1967D2;\n",
              "      height: 32px;\n",
              "      padding: 0 0 0 0;\n",
              "      width: 32px;\n",
              "    }\n",
              "\n",
              "    .colab-df-convert:hover {\n",
              "      background-color: #E2EBFA;\n",
              "      box-shadow: 0px 1px 2px rgba(60, 64, 67, 0.3), 0px 1px 3px 1px rgba(60, 64, 67, 0.15);\n",
              "      fill: #174EA6;\n",
              "    }\n",
              "\n",
              "    [theme=dark] .colab-df-convert {\n",
              "      background-color: #3B4455;\n",
              "      fill: #D2E3FC;\n",
              "    }\n",
              "\n",
              "    [theme=dark] .colab-df-convert:hover {\n",
              "      background-color: #434B5C;\n",
              "      box-shadow: 0px 1px 3px 1px rgba(0, 0, 0, 0.15);\n",
              "      filter: drop-shadow(0px 1px 2px rgba(0, 0, 0, 0.3));\n",
              "      fill: #FFFFFF;\n",
              "    }\n",
              "  </style>\n",
              "\n",
              "      <script>\n",
              "        const buttonEl =\n",
              "          document.querySelector('#df-4748a775-a599-486f-8a6e-35068a34a440 button.colab-df-convert');\n",
              "        buttonEl.style.display =\n",
              "          google.colab.kernel.accessAllowed ? 'block' : 'none';\n",
              "\n",
              "        async function convertToInteractive(key) {\n",
              "          const element = document.querySelector('#df-4748a775-a599-486f-8a6e-35068a34a440');\n",
              "          const dataTable =\n",
              "            await google.colab.kernel.invokeFunction('convertToInteractive',\n",
              "                                                     [key], {});\n",
              "          if (!dataTable) return;\n",
              "\n",
              "          const docLinkHtml = 'Like what you see? Visit the ' +\n",
              "            '<a target=\"_blank\" href=https://colab.research.google.com/notebooks/data_table.ipynb>data table notebook</a>'\n",
              "            + ' to learn more about interactive tables.';\n",
              "          element.innerHTML = '';\n",
              "          dataTable['output_type'] = 'display_data';\n",
              "          await google.colab.output.renderOutput(dataTable, element);\n",
              "          const docLink = document.createElement('div');\n",
              "          docLink.innerHTML = docLinkHtml;\n",
              "          element.appendChild(docLink);\n",
              "        }\n",
              "      </script>\n",
              "    </div>\n",
              "  </div>\n",
              "  "
            ]
          },
          "metadata": {},
          "execution_count": 6
        }
      ]
    },
    {
      "cell_type": "code",
      "source": [
        "data_labels = d['livingSpace'].copy()\n",
        "data_features = d.drop(columns='livingSpace')"
      ],
      "metadata": {
        "id": "jbD3XYV3OU4-"
      },
      "execution_count": null,
      "outputs": []
    },
    {
      "cell_type": "code",
      "source": [
        "x_train, x_test, y_train, y_test = train_test_split(data_features, data_labels, test_size=0.2)"
      ],
      "metadata": {
        "id": "IpWzgcG7JGoC"
      },
      "execution_count": null,
      "outputs": []
    },
    {
      "cell_type": "code",
      "source": [
        "sc = StandardScaler()\n",
        " \n",
        "standard_X_train = sc.fit_transform(x_train)\n",
        "standard_X_test = sc.transform(x_test)"
      ],
      "metadata": {
        "id": "MtYZNrv1bd6U"
      },
      "execution_count": null,
      "outputs": []
    },
    {
      "cell_type": "code",
      "source": [
        "class SimpleLinearRegression() : \n",
        "      \n",
        "    def __init__( self, learning_rate, iterations ) : \n",
        "          \n",
        "        self.learning_rate = learning_rate \n",
        "          \n",
        "        self.iterations = iterations \n",
        "    def fit(self, X, Y):\n",
        "      X_train = np.c_[np.ones(X.shape[0]), X]\n",
        "      self.W = np.random.rand((X_train.shape[1]))\n",
        "      for i in range(self.iterations):\n",
        "        self.W = self.W  - self.learning_rate * self.calcGradient(X_train, Y)\n",
        "\n",
        "    def calcGradient(self, X, Y):\n",
        "      return 2/X.shape[0] * np.dot(X.T, (np.dot(X, self.W) - Y))\n",
        "\n",
        "    def predict(self, X):\n",
        "      Xpred = np.c_[np.ones(X.shape[0]), X]\n",
        "      return np.dot(Xpred, self.W)"
      ],
      "metadata": {
        "id": "aZbaUo77FJ5w"
      },
      "execution_count": null,
      "outputs": []
    },
    {
      "cell_type": "code",
      "source": [
        "model = SimpleLinearRegression(iterations = 1000, learning_rate = 0.01)"
      ],
      "metadata": {
        "id": "52RGX9PmFJ7t"
      },
      "execution_count": null,
      "outputs": []
    },
    {
      "cell_type": "code",
      "source": [
        "model.fit(standard_X_train, y_train)"
      ],
      "metadata": {
        "id": "_ACOOituFJ-y"
      },
      "execution_count": null,
      "outputs": []
    },
    {
      "cell_type": "code",
      "source": [
        "y_pred = model.predict(standard_X_test)"
      ],
      "metadata": {
        "id": "ltPgvxFGFKAO"
      },
      "execution_count": null,
      "outputs": []
    },
    {
      "cell_type": "code",
      "source": [
        "print(f'MSE on the test set: {mean_squared_error(y_test, y_pred)}')"
      ],
      "metadata": {
        "colab": {
          "base_uri": "https://localhost:8080/"
        },
        "id": "eEQSWHFfFXQ3",
        "outputId": "ee76ad06-6d06-46ce-f46a-fec5e830ef92"
      },
      "execution_count": null,
      "outputs": [
        {
          "output_type": "stream",
          "name": "stdout",
          "text": [
            "MSE on the test set: 1125.6715078175303\n"
          ]
        }
      ]
    },
    {
      "cell_type": "code",
      "source": [
        "model_1 = LinearRegression()\n",
        "model_1.fit(standard_X_train, y_train)\n",
        "y_pred_1 = model_1.predict(standard_X_test)"
      ],
      "metadata": {
        "id": "WS7vdmdGk73V"
      },
      "execution_count": null,
      "outputs": []
    },
    {
      "cell_type": "code",
      "source": [
        "print(f'MSE on the test set: {mean_squared_error(y_test, y_pred_1)}')"
      ],
      "metadata": {
        "colab": {
          "base_uri": "https://localhost:8080/"
        },
        "id": "wIAo0Y-fq1GK",
        "outputId": "03c5641e-b300-4782-f7ff-f0e774e6e26c"
      },
      "execution_count": null,
      "outputs": [
        {
          "output_type": "stream",
          "name": "stdout",
          "text": [
            "MSE on the test set: 1125.7051500327655\n"
          ]
        }
      ]
    },
    {
      "cell_type": "code",
      "source": [
        "from sklearn.model_selection import KFold"
      ],
      "metadata": {
        "id": "eGsYaMfowtoR"
      },
      "execution_count": null,
      "outputs": []
    },
    {
      "cell_type": "code",
      "source": [
        "ridge_regression_model = Ridge(alpha=1.0)\n",
        "\n",
        "cv = KFold(n_splits=10, random_state=1, shuffle=True)\n",
        "scores = cross_val_score(ridge_regression_model, standard_X_train, y_train, scoring='neg_mean_squared_error', cv=cv, n_jobs=-1)\n",
        "scores = np.absolute(scores)\n",
        "print('10 Fold:Mean MSE: %.3f (%.3f)' % (np.mean(scores), np.std(scores)))"
      ],
      "metadata": {
        "colab": {
          "base_uri": "https://localhost:8080/"
        },
        "id": "B9sShQvLtnB4",
        "outputId": "15fe71d0-a1bd-43f8-ca2f-52991ad8c4f7"
      },
      "execution_count": null,
      "outputs": [
        {
          "output_type": "stream",
          "name": "stdout",
          "text": [
            "10 Fold:Mean MSE: 87382.327 (173090.936)\n"
          ]
        }
      ]
    },
    {
      "cell_type": "code",
      "source": [
        "lasso_regression_model = Lasso(alpha=1.0, fit_intercept=True, random_state=77)\n",
        "    \n",
        "cv = KFold(n_splits=10, random_state=1, shuffle=True)\n",
        "scores = cross_val_score(lasso_regression_model, standard_X_train, y_train, scoring='neg_mean_squared_error', cv=cv, n_jobs=-1)\n",
        "scores = np.absolute(scores)\n",
        "print('10 Fold:Mean MSE: %.3f (%.3f)' % (np.mean(scores), np.std(scores)))"
      ],
      "metadata": {
        "colab": {
          "base_uri": "https://localhost:8080/"
        },
        "id": "k6C3D7f9tnE_",
        "outputId": "1dc4231c-b79c-42be-e282-6f023642ba9a"
      },
      "execution_count": null,
      "outputs": [
        {
          "output_type": "stream",
          "name": "stdout",
          "text": [
            "10 Fold:Mean MSE: 86213.890 (173254.721)\n"
          ]
        }
      ]
    },
    {
      "cell_type": "code",
      "source": [],
      "metadata": {
        "id": "aXigO16-tnH2"
      },
      "execution_count": null,
      "outputs": []
    }
  ]
}