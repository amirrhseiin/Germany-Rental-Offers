{
  "nbformat": 4,
  "nbformat_minor": 0,
  "metadata": {
    "colab": {
      "provenance": [],
      "collapsed_sections": [],
      "authorship_tag": "ABX9TyPeORggLKUx5qUZ6vYjAecr",
      "include_colab_link": true
    },
    "kernelspec": {
      "name": "python3",
      "display_name": "Python 3"
    },
    "language_info": {
      "name": "python"
    }
  },
  "cells": [
    {
      "cell_type": "markdown",
      "metadata": {
        "id": "view-in-github",
        "colab_type": "text"
      },
      "source": [
        "<a href=\"https://colab.research.google.com/github/amirrhseiin/Germany-Rental-Offers/blob/main/Germany_Rental_Offers.ipynb\" target=\"_parent\"><img src=\"https://colab.research.google.com/assets/colab-badge.svg\" alt=\"Open In Colab\"/></a>"
      ]
    },
    {
      "cell_type": "code",
      "execution_count": null,
      "metadata": {
        "id": "1gJwabXJXZsj",
        "colab": {
          "base_uri": "https://localhost:8080/"
        },
        "outputId": "16a2e6f8-261c-4ef1-e707-d24a34f6547f"
      },
      "outputs": [
        {
          "output_type": "stream",
          "name": "stdout",
          "text": [
            "Drive already mounted at /content/drive; to attempt to forcibly remount, call drive.mount(\"/content/drive\", force_remount=True).\n"
          ]
        }
      ],
      "source": [
        "from google.colab import drive\n",
        "drive.mount('/content/drive')"
      ]
    },
    {
      "cell_type": "code",
      "source": [
        "!pip install category_encoders"
      ],
      "metadata": {
        "colab": {
          "base_uri": "https://localhost:8080/"
        },
        "id": "nYLy-K2z75pQ",
        "outputId": "ac33bb24-c5f1-4c4c-b390-25b866580535"
      },
      "execution_count": null,
      "outputs": [
        {
          "output_type": "stream",
          "name": "stdout",
          "text": [
            "Requirement already satisfied: category_encoders in /usr/local/lib/python3.7/dist-packages (2.4.0)\n",
            "Requirement already satisfied: scipy>=1.0.0 in /usr/local/lib/python3.7/dist-packages (from category_encoders) (1.4.1)\n",
            "Requirement already satisfied: statsmodels>=0.9.0 in /usr/local/lib/python3.7/dist-packages (from category_encoders) (0.10.2)\n",
            "Requirement already satisfied: pandas>=0.21.1 in /usr/local/lib/python3.7/dist-packages (from category_encoders) (1.3.5)\n",
            "Requirement already satisfied: patsy>=0.5.1 in /usr/local/lib/python3.7/dist-packages (from category_encoders) (0.5.2)\n",
            "Requirement already satisfied: scikit-learn>=0.20.0 in /usr/local/lib/python3.7/dist-packages (from category_encoders) (1.0.2)\n",
            "Requirement already satisfied: numpy>=1.14.0 in /usr/local/lib/python3.7/dist-packages (from category_encoders) (1.21.5)\n",
            "Requirement already satisfied: python-dateutil>=2.7.3 in /usr/local/lib/python3.7/dist-packages (from pandas>=0.21.1->category_encoders) (2.8.2)\n",
            "Requirement already satisfied: pytz>=2017.3 in /usr/local/lib/python3.7/dist-packages (from pandas>=0.21.1->category_encoders) (2018.9)\n",
            "Requirement already satisfied: six in /usr/local/lib/python3.7/dist-packages (from patsy>=0.5.1->category_encoders) (1.15.0)\n",
            "Requirement already satisfied: threadpoolctl>=2.0.0 in /usr/local/lib/python3.7/dist-packages (from scikit-learn>=0.20.0->category_encoders) (3.1.0)\n",
            "Requirement already satisfied: joblib>=0.11 in /usr/local/lib/python3.7/dist-packages (from scikit-learn>=0.20.0->category_encoders) (1.1.0)\n"
          ]
        }
      ]
    },
    {
      "cell_type": "code",
      "source": [
        "import pandas as pd\n",
        "import seaborn as sns\n",
        "import numpy as np\n",
        "from category_encoders import TargetEncoder\n",
        "from sklearn import preprocessing\n",
        "from multiprocessing import Pool, cpu_count\n",
        "import time\n",
        "import matplotlib.pyplot as plt"
      ],
      "metadata": {
        "id": "kuUJ4-H0XxoI",
        "colab": {
          "base_uri": "https://localhost:8080/"
        },
        "outputId": "bb5686c4-361a-4a4e-d782-ab9d6c56e412"
      },
      "execution_count": null,
      "outputs": [
        {
          "output_type": "stream",
          "name": "stderr",
          "text": [
            "/usr/local/lib/python3.7/dist-packages/statsmodels/tools/_testing.py:19: FutureWarning: pandas.util.testing is deprecated. Use the functions in the public API at pandas.testing instead.\n",
            "  import pandas.util.testing as tm\n"
          ]
        }
      ]
    },
    {
      "cell_type": "code",
      "source": [
        "data = pd.read_csv(\"/content/drive/MyDrive/ML/EX1/part2/archive.zip\")"
      ],
      "metadata": {
        "id": "KSfqagfsXs9x"
      },
      "execution_count": null,
      "outputs": []
    },
    {
      "cell_type": "code",
      "source": [
        "data.shape"
      ],
      "metadata": {
        "id": "AVYkPy9sPGAb",
        "colab": {
          "base_uri": "https://localhost:8080/"
        },
        "outputId": "3b5ac71d-ba77-4fb3-9d08-e0c65ab87307"
      },
      "execution_count": null,
      "outputs": [
        {
          "output_type": "execute_result",
          "data": {
            "text/plain": [
              "(268850, 49)"
            ]
          },
          "metadata": {},
          "execution_count": 5
        }
      ]
    },
    {
      "cell_type": "code",
      "source": [
        "data.isna().sum().numberOfFloors"
      ],
      "metadata": {
        "id": "TmFaCvrxIqWz",
        "colab": {
          "base_uri": "https://localhost:8080/"
        },
        "outputId": "6420a55c-a74e-4047-8dc1-2e738f7cb5c4"
      },
      "execution_count": null,
      "outputs": [
        {
          "output_type": "execute_result",
          "data": {
            "text/plain": [
              "97732"
            ]
          },
          "metadata": {},
          "execution_count": 6
        }
      ]
    },
    {
      "cell_type": "code",
      "source": [
        "data.numberOfFloors.fillna(data.floor, inplace=True)"
      ],
      "metadata": {
        "id": "8umz1Qx2IXBQ"
      },
      "execution_count": null,
      "outputs": []
    },
    {
      "cell_type": "code",
      "source": [
        "data.isna().sum().numberOfFloors"
      ],
      "metadata": {
        "id": "3y-MNttFIxfk",
        "colab": {
          "base_uri": "https://localhost:8080/"
        },
        "outputId": "57e01e22-ed28-437d-eac7-dda277c89c9b"
      },
      "execution_count": null,
      "outputs": [
        {
          "output_type": "execute_result",
          "data": {
            "text/plain": [
              "39942"
            ]
          },
          "metadata": {},
          "execution_count": 8
        }
      ]
    },
    {
      "cell_type": "code",
      "source": [
        "data[data['numberOfFloors']<0].floor.value_counts()"
      ],
      "metadata": {
        "id": "Lu9QpolCM2c1",
        "colab": {
          "base_uri": "https://localhost:8080/"
        },
        "outputId": "849c4b09-c45a-4e3e-e86d-e7c776123ba0"
      },
      "execution_count": null,
      "outputs": [
        {
          "output_type": "execute_result",
          "data": {
            "text/plain": [
              "-1.0    139\n",
              "Name: floor, dtype: int64"
            ]
          },
          "metadata": {},
          "execution_count": 9
        }
      ]
    },
    {
      "cell_type": "code",
      "source": [
        "data.isna().sum().totalRent"
      ],
      "metadata": {
        "id": "8U_MkQAsPdWa",
        "colab": {
          "base_uri": "https://localhost:8080/"
        },
        "outputId": "a0e2e91e-94e7-415c-90dd-578885e66ced"
      },
      "execution_count": null,
      "outputs": [
        {
          "output_type": "execute_result",
          "data": {
            "text/plain": [
              "40517"
            ]
          },
          "metadata": {},
          "execution_count": 10
        }
      ]
    },
    {
      "cell_type": "code",
      "source": [
        "data.totalRent.fillna(data.baseRent + data.heatingCosts + data.serviceCharge , inplace=True)"
      ],
      "metadata": {
        "id": "UsgNkOHAPUM3"
      },
      "execution_count": null,
      "outputs": []
    },
    {
      "cell_type": "code",
      "source": [
        "data.isna().sum().totalRent"
      ],
      "metadata": {
        "id": "jDctW4RLPeUq",
        "colab": {
          "base_uri": "https://localhost:8080/"
        },
        "outputId": "54882231-f96b-4260-dad5-50584b4c38f8"
      },
      "execution_count": null,
      "outputs": [
        {
          "output_type": "execute_result",
          "data": {
            "text/plain": [
              "28235"
            ]
          },
          "metadata": {},
          "execution_count": 12
        }
      ]
    },
    {
      "cell_type": "code",
      "source": [
        "null_percent = pd.DataFrame(100 * data.isna().sum()/len(data))\n",
        "null_percent.reset_index(inplace=True)\n",
        "null_percent.rename(columns={\"index\": \"name\", 0: \"percent\"}, inplace=True)\n",
        "null_percent"
      ],
      "metadata": {
        "id": "3UuhekvyPfDy",
        "colab": {
          "base_uri": "https://localhost:8080/",
          "height": 1000
        },
        "outputId": "3c4979b8-9c6c-4df6-865d-77138241a0fd"
      },
      "execution_count": null,
      "outputs": [
        {
          "output_type": "execute_result",
          "data": {
            "text/plain": [
              "                        name    percent\n",
              "0                     regio1   0.000000\n",
              "1              serviceCharge   2.569834\n",
              "2                heatingType  16.684397\n",
              "3             telekomTvOffer  12.132788\n",
              "4   telekomHybridUploadSpeed  83.254603\n",
              "5                 newlyConst   0.000000\n",
              "6                    balcony   0.000000\n",
              "7               picturecount   0.000000\n",
              "8                 pricetrend   0.681421\n",
              "9         telekomUploadSpeed  12.407662\n",
              "10                 totalRent  10.502139\n",
              "11           yearConstructed  21.218151\n",
              "12                   scoutId   0.000000\n",
              "13              noParkSpaces  65.388879\n",
              "14               firingTypes  21.188023\n",
              "15                hasKitchen   0.000000\n",
              "16                   geo_bln   0.000000\n",
              "17                    cellar   0.000000\n",
              "18      yearConstructedRange  21.218151\n",
              "19                  baseRent   0.000000\n",
              "20               houseNumber  26.415473\n",
              "21               livingSpace   0.000000\n",
              "22                   geo_krs   0.000000\n",
              "23                 condition  25.474800\n",
              "24              interiorQual  41.906267\n",
              "25               petsAllowed  42.615957\n",
              "26                    street   0.000000\n",
              "27               streetPlain  26.413614\n",
              "28                      lift   0.000000\n",
              "29             baseRentRange   0.000000\n",
              "30                typeOfFlat  13.618747\n",
              "31                   geo_plz   0.000000\n",
              "32                   noRooms   0.000000\n",
              "33               thermalChar  39.615399\n",
              "34                     floor  19.084620\n",
              "35            numberOfFloors  14.856611\n",
              "36              noRoomsRange   0.000000\n",
              "37                    garden   0.000000\n",
              "38          livingSpaceRange   0.000000\n",
              "39                    regio2   0.000000\n",
              "40                    regio3   0.000000\n",
              "41               description   7.344988\n",
              "42                facilities  19.685326\n",
              "43              heatingCosts  68.191185\n",
              "44     energyEfficiencyClass  71.066766\n",
              "45             lastRefurbish  69.979171\n",
              "46      electricityBasePrice  82.575414\n",
              "47       electricityKwhPrice  82.575414\n",
              "48                      date   0.000000"
            ],
            "text/html": [
              "\n",
              "  <div id=\"df-3b3ef0b2-7df6-4a15-a229-931fc2b4b727\">\n",
              "    <div class=\"colab-df-container\">\n",
              "      <div>\n",
              "<style scoped>\n",
              "    .dataframe tbody tr th:only-of-type {\n",
              "        vertical-align: middle;\n",
              "    }\n",
              "\n",
              "    .dataframe tbody tr th {\n",
              "        vertical-align: top;\n",
              "    }\n",
              "\n",
              "    .dataframe thead th {\n",
              "        text-align: right;\n",
              "    }\n",
              "</style>\n",
              "<table border=\"1\" class=\"dataframe\">\n",
              "  <thead>\n",
              "    <tr style=\"text-align: right;\">\n",
              "      <th></th>\n",
              "      <th>name</th>\n",
              "      <th>percent</th>\n",
              "    </tr>\n",
              "  </thead>\n",
              "  <tbody>\n",
              "    <tr>\n",
              "      <th>0</th>\n",
              "      <td>regio1</td>\n",
              "      <td>0.000000</td>\n",
              "    </tr>\n",
              "    <tr>\n",
              "      <th>1</th>\n",
              "      <td>serviceCharge</td>\n",
              "      <td>2.569834</td>\n",
              "    </tr>\n",
              "    <tr>\n",
              "      <th>2</th>\n",
              "      <td>heatingType</td>\n",
              "      <td>16.684397</td>\n",
              "    </tr>\n",
              "    <tr>\n",
              "      <th>3</th>\n",
              "      <td>telekomTvOffer</td>\n",
              "      <td>12.132788</td>\n",
              "    </tr>\n",
              "    <tr>\n",
              "      <th>4</th>\n",
              "      <td>telekomHybridUploadSpeed</td>\n",
              "      <td>83.254603</td>\n",
              "    </tr>\n",
              "    <tr>\n",
              "      <th>5</th>\n",
              "      <td>newlyConst</td>\n",
              "      <td>0.000000</td>\n",
              "    </tr>\n",
              "    <tr>\n",
              "      <th>6</th>\n",
              "      <td>balcony</td>\n",
              "      <td>0.000000</td>\n",
              "    </tr>\n",
              "    <tr>\n",
              "      <th>7</th>\n",
              "      <td>picturecount</td>\n",
              "      <td>0.000000</td>\n",
              "    </tr>\n",
              "    <tr>\n",
              "      <th>8</th>\n",
              "      <td>pricetrend</td>\n",
              "      <td>0.681421</td>\n",
              "    </tr>\n",
              "    <tr>\n",
              "      <th>9</th>\n",
              "      <td>telekomUploadSpeed</td>\n",
              "      <td>12.407662</td>\n",
              "    </tr>\n",
              "    <tr>\n",
              "      <th>10</th>\n",
              "      <td>totalRent</td>\n",
              "      <td>10.502139</td>\n",
              "    </tr>\n",
              "    <tr>\n",
              "      <th>11</th>\n",
              "      <td>yearConstructed</td>\n",
              "      <td>21.218151</td>\n",
              "    </tr>\n",
              "    <tr>\n",
              "      <th>12</th>\n",
              "      <td>scoutId</td>\n",
              "      <td>0.000000</td>\n",
              "    </tr>\n",
              "    <tr>\n",
              "      <th>13</th>\n",
              "      <td>noParkSpaces</td>\n",
              "      <td>65.388879</td>\n",
              "    </tr>\n",
              "    <tr>\n",
              "      <th>14</th>\n",
              "      <td>firingTypes</td>\n",
              "      <td>21.188023</td>\n",
              "    </tr>\n",
              "    <tr>\n",
              "      <th>15</th>\n",
              "      <td>hasKitchen</td>\n",
              "      <td>0.000000</td>\n",
              "    </tr>\n",
              "    <tr>\n",
              "      <th>16</th>\n",
              "      <td>geo_bln</td>\n",
              "      <td>0.000000</td>\n",
              "    </tr>\n",
              "    <tr>\n",
              "      <th>17</th>\n",
              "      <td>cellar</td>\n",
              "      <td>0.000000</td>\n",
              "    </tr>\n",
              "    <tr>\n",
              "      <th>18</th>\n",
              "      <td>yearConstructedRange</td>\n",
              "      <td>21.218151</td>\n",
              "    </tr>\n",
              "    <tr>\n",
              "      <th>19</th>\n",
              "      <td>baseRent</td>\n",
              "      <td>0.000000</td>\n",
              "    </tr>\n",
              "    <tr>\n",
              "      <th>20</th>\n",
              "      <td>houseNumber</td>\n",
              "      <td>26.415473</td>\n",
              "    </tr>\n",
              "    <tr>\n",
              "      <th>21</th>\n",
              "      <td>livingSpace</td>\n",
              "      <td>0.000000</td>\n",
              "    </tr>\n",
              "    <tr>\n",
              "      <th>22</th>\n",
              "      <td>geo_krs</td>\n",
              "      <td>0.000000</td>\n",
              "    </tr>\n",
              "    <tr>\n",
              "      <th>23</th>\n",
              "      <td>condition</td>\n",
              "      <td>25.474800</td>\n",
              "    </tr>\n",
              "    <tr>\n",
              "      <th>24</th>\n",
              "      <td>interiorQual</td>\n",
              "      <td>41.906267</td>\n",
              "    </tr>\n",
              "    <tr>\n",
              "      <th>25</th>\n",
              "      <td>petsAllowed</td>\n",
              "      <td>42.615957</td>\n",
              "    </tr>\n",
              "    <tr>\n",
              "      <th>26</th>\n",
              "      <td>street</td>\n",
              "      <td>0.000000</td>\n",
              "    </tr>\n",
              "    <tr>\n",
              "      <th>27</th>\n",
              "      <td>streetPlain</td>\n",
              "      <td>26.413614</td>\n",
              "    </tr>\n",
              "    <tr>\n",
              "      <th>28</th>\n",
              "      <td>lift</td>\n",
              "      <td>0.000000</td>\n",
              "    </tr>\n",
              "    <tr>\n",
              "      <th>29</th>\n",
              "      <td>baseRentRange</td>\n",
              "      <td>0.000000</td>\n",
              "    </tr>\n",
              "    <tr>\n",
              "      <th>30</th>\n",
              "      <td>typeOfFlat</td>\n",
              "      <td>13.618747</td>\n",
              "    </tr>\n",
              "    <tr>\n",
              "      <th>31</th>\n",
              "      <td>geo_plz</td>\n",
              "      <td>0.000000</td>\n",
              "    </tr>\n",
              "    <tr>\n",
              "      <th>32</th>\n",
              "      <td>noRooms</td>\n",
              "      <td>0.000000</td>\n",
              "    </tr>\n",
              "    <tr>\n",
              "      <th>33</th>\n",
              "      <td>thermalChar</td>\n",
              "      <td>39.615399</td>\n",
              "    </tr>\n",
              "    <tr>\n",
              "      <th>34</th>\n",
              "      <td>floor</td>\n",
              "      <td>19.084620</td>\n",
              "    </tr>\n",
              "    <tr>\n",
              "      <th>35</th>\n",
              "      <td>numberOfFloors</td>\n",
              "      <td>14.856611</td>\n",
              "    </tr>\n",
              "    <tr>\n",
              "      <th>36</th>\n",
              "      <td>noRoomsRange</td>\n",
              "      <td>0.000000</td>\n",
              "    </tr>\n",
              "    <tr>\n",
              "      <th>37</th>\n",
              "      <td>garden</td>\n",
              "      <td>0.000000</td>\n",
              "    </tr>\n",
              "    <tr>\n",
              "      <th>38</th>\n",
              "      <td>livingSpaceRange</td>\n",
              "      <td>0.000000</td>\n",
              "    </tr>\n",
              "    <tr>\n",
              "      <th>39</th>\n",
              "      <td>regio2</td>\n",
              "      <td>0.000000</td>\n",
              "    </tr>\n",
              "    <tr>\n",
              "      <th>40</th>\n",
              "      <td>regio3</td>\n",
              "      <td>0.000000</td>\n",
              "    </tr>\n",
              "    <tr>\n",
              "      <th>41</th>\n",
              "      <td>description</td>\n",
              "      <td>7.344988</td>\n",
              "    </tr>\n",
              "    <tr>\n",
              "      <th>42</th>\n",
              "      <td>facilities</td>\n",
              "      <td>19.685326</td>\n",
              "    </tr>\n",
              "    <tr>\n",
              "      <th>43</th>\n",
              "      <td>heatingCosts</td>\n",
              "      <td>68.191185</td>\n",
              "    </tr>\n",
              "    <tr>\n",
              "      <th>44</th>\n",
              "      <td>energyEfficiencyClass</td>\n",
              "      <td>71.066766</td>\n",
              "    </tr>\n",
              "    <tr>\n",
              "      <th>45</th>\n",
              "      <td>lastRefurbish</td>\n",
              "      <td>69.979171</td>\n",
              "    </tr>\n",
              "    <tr>\n",
              "      <th>46</th>\n",
              "      <td>electricityBasePrice</td>\n",
              "      <td>82.575414</td>\n",
              "    </tr>\n",
              "    <tr>\n",
              "      <th>47</th>\n",
              "      <td>electricityKwhPrice</td>\n",
              "      <td>82.575414</td>\n",
              "    </tr>\n",
              "    <tr>\n",
              "      <th>48</th>\n",
              "      <td>date</td>\n",
              "      <td>0.000000</td>\n",
              "    </tr>\n",
              "  </tbody>\n",
              "</table>\n",
              "</div>\n",
              "      <button class=\"colab-df-convert\" onclick=\"convertToInteractive('df-3b3ef0b2-7df6-4a15-a229-931fc2b4b727')\"\n",
              "              title=\"Convert this dataframe to an interactive table.\"\n",
              "              style=\"display:none;\">\n",
              "        \n",
              "  <svg xmlns=\"http://www.w3.org/2000/svg\" height=\"24px\"viewBox=\"0 0 24 24\"\n",
              "       width=\"24px\">\n",
              "    <path d=\"M0 0h24v24H0V0z\" fill=\"none\"/>\n",
              "    <path d=\"M18.56 5.44l.94 2.06.94-2.06 2.06-.94-2.06-.94-.94-2.06-.94 2.06-2.06.94zm-11 1L8.5 8.5l.94-2.06 2.06-.94-2.06-.94L8.5 2.5l-.94 2.06-2.06.94zm10 10l.94 2.06.94-2.06 2.06-.94-2.06-.94-.94-2.06-.94 2.06-2.06.94z\"/><path d=\"M17.41 7.96l-1.37-1.37c-.4-.4-.92-.59-1.43-.59-.52 0-1.04.2-1.43.59L10.3 9.45l-7.72 7.72c-.78.78-.78 2.05 0 2.83L4 21.41c.39.39.9.59 1.41.59.51 0 1.02-.2 1.41-.59l7.78-7.78 2.81-2.81c.8-.78.8-2.07 0-2.86zM5.41 20L4 18.59l7.72-7.72 1.47 1.35L5.41 20z\"/>\n",
              "  </svg>\n",
              "      </button>\n",
              "      \n",
              "  <style>\n",
              "    .colab-df-container {\n",
              "      display:flex;\n",
              "      flex-wrap:wrap;\n",
              "      gap: 12px;\n",
              "    }\n",
              "\n",
              "    .colab-df-convert {\n",
              "      background-color: #E8F0FE;\n",
              "      border: none;\n",
              "      border-radius: 50%;\n",
              "      cursor: pointer;\n",
              "      display: none;\n",
              "      fill: #1967D2;\n",
              "      height: 32px;\n",
              "      padding: 0 0 0 0;\n",
              "      width: 32px;\n",
              "    }\n",
              "\n",
              "    .colab-df-convert:hover {\n",
              "      background-color: #E2EBFA;\n",
              "      box-shadow: 0px 1px 2px rgba(60, 64, 67, 0.3), 0px 1px 3px 1px rgba(60, 64, 67, 0.15);\n",
              "      fill: #174EA6;\n",
              "    }\n",
              "\n",
              "    [theme=dark] .colab-df-convert {\n",
              "      background-color: #3B4455;\n",
              "      fill: #D2E3FC;\n",
              "    }\n",
              "\n",
              "    [theme=dark] .colab-df-convert:hover {\n",
              "      background-color: #434B5C;\n",
              "      box-shadow: 0px 1px 3px 1px rgba(0, 0, 0, 0.15);\n",
              "      filter: drop-shadow(0px 1px 2px rgba(0, 0, 0, 0.3));\n",
              "      fill: #FFFFFF;\n",
              "    }\n",
              "  </style>\n",
              "\n",
              "      <script>\n",
              "        const buttonEl =\n",
              "          document.querySelector('#df-3b3ef0b2-7df6-4a15-a229-931fc2b4b727 button.colab-df-convert');\n",
              "        buttonEl.style.display =\n",
              "          google.colab.kernel.accessAllowed ? 'block' : 'none';\n",
              "\n",
              "        async function convertToInteractive(key) {\n",
              "          const element = document.querySelector('#df-3b3ef0b2-7df6-4a15-a229-931fc2b4b727');\n",
              "          const dataTable =\n",
              "            await google.colab.kernel.invokeFunction('convertToInteractive',\n",
              "                                                     [key], {});\n",
              "          if (!dataTable) return;\n",
              "\n",
              "          const docLinkHtml = 'Like what you see? Visit the ' +\n",
              "            '<a target=\"_blank\" href=https://colab.research.google.com/notebooks/data_table.ipynb>data table notebook</a>'\n",
              "            + ' to learn more about interactive tables.';\n",
              "          element.innerHTML = '';\n",
              "          dataTable['output_type'] = 'display_data';\n",
              "          await google.colab.output.renderOutput(dataTable, element);\n",
              "          const docLink = document.createElement('div');\n",
              "          docLink.innerHTML = docLinkHtml;\n",
              "          element.appendChild(docLink);\n",
              "        }\n",
              "      </script>\n",
              "    </div>\n",
              "  </div>\n",
              "  "
            ]
          },
          "metadata": {},
          "execution_count": 13
        }
      ]
    },
    {
      "cell_type": "code",
      "source": [
        "drop_clmns = ['regio2', 'regio3', 'geo_bln', 'description', 'geo_krs', 'street', 'streetPlain', 'geo_plz', 'noRoomsRange', 'livingSpaceRange', 'condition', 'date', \"firingTypes\",\n",
        "                   'facilities', 'yearConstructed', 'baseRentRange', 'noRoomsRange', 'picturecount', 'scoutId', 'yearConstructedRange', 'yearConstructed', 'thermalChar', 'houseNumber']\n",
        "\n",
        "drop_clmns.extend(null_percent.name[null_percent['percent'] > 40 ].tolist())\n",
        "drop_clmns"
      ],
      "metadata": {
        "id": "sQLW5DGDQMq9",
        "colab": {
          "base_uri": "https://localhost:8080/"
        },
        "outputId": "b9851799-e720-428e-de46-a83320e56db0"
      },
      "execution_count": null,
      "outputs": [
        {
          "output_type": "execute_result",
          "data": {
            "text/plain": [
              "['regio2',\n",
              " 'regio3',\n",
              " 'geo_bln',\n",
              " 'description',\n",
              " 'geo_krs',\n",
              " 'street',\n",
              " 'streetPlain',\n",
              " 'geo_plz',\n",
              " 'noRoomsRange',\n",
              " 'livingSpaceRange',\n",
              " 'condition',\n",
              " 'date',\n",
              " 'firingTypes',\n",
              " 'facilities',\n",
              " 'yearConstructed',\n",
              " 'baseRentRange',\n",
              " 'noRoomsRange',\n",
              " 'picturecount',\n",
              " 'scoutId',\n",
              " 'yearConstructedRange',\n",
              " 'yearConstructed',\n",
              " 'thermalChar',\n",
              " 'houseNumber',\n",
              " 'telekomHybridUploadSpeed',\n",
              " 'noParkSpaces',\n",
              " 'interiorQual',\n",
              " 'petsAllowed',\n",
              " 'heatingCosts',\n",
              " 'energyEfficiencyClass',\n",
              " 'lastRefurbish',\n",
              " 'electricityBasePrice',\n",
              " 'electricityKwhPrice']"
            ]
          },
          "metadata": {},
          "execution_count": 14
        }
      ]
    },
    {
      "cell_type": "code",
      "source": [
        "data.drop(columns=drop_clmns, inplace=True)"
      ],
      "metadata": {
        "id": "shE0qpb0Q9dT"
      },
      "execution_count": null,
      "outputs": []
    },
    {
      "cell_type": "code",
      "source": [
        "data.shape"
      ],
      "metadata": {
        "id": "0oJw6i1PQ-KN",
        "colab": {
          "base_uri": "https://localhost:8080/"
        },
        "outputId": "5103d7dd-2383-484f-b254-bf25473475a5"
      },
      "execution_count": null,
      "outputs": [
        {
          "output_type": "execute_result",
          "data": {
            "text/plain": [
              "(268850, 19)"
            ]
          },
          "metadata": {},
          "execution_count": 16
        }
      ]
    },
    {
      "cell_type": "code",
      "source": [
        "drop_index = []\n",
        "\n",
        "drop_index.extend(data.index[data['serviceCharge'] < 0 ].tolist())\n",
        "drop_index.extend(data.index[(data['floor'] > data['numberOfFloors']) & (data['numberOfFloors'] > -1)].tolist() )  \n",
        "drop_index.extend(data.index[(data['balcony']==True) & (data['floor']<0)].tolist())\n",
        "drop_index.extend(data.index[data['totalRent'].isnull()])"
      ],
      "metadata": {
        "id": "z6aKv3yVwoH7"
      },
      "execution_count": null,
      "outputs": []
    },
    {
      "cell_type": "code",
      "source": [
        "data.drop(index=drop_index, inplace=True)"
      ],
      "metadata": {
        "id": "DbPehc8YYKBa"
      },
      "execution_count": null,
      "outputs": []
    },
    {
      "cell_type": "code",
      "source": [
        "data.shape"
      ],
      "metadata": {
        "id": "vzIrVru5gFqi",
        "colab": {
          "base_uri": "https://localhost:8080/"
        },
        "outputId": "7d5d380b-b8e0-426d-bca2-9ba965e36965"
      },
      "execution_count": null,
      "outputs": [
        {
          "output_type": "execute_result",
          "data": {
            "text/plain": [
              "(239267, 19)"
            ]
          },
          "metadata": {},
          "execution_count": 19
        }
      ]
    },
    {
      "cell_type": "markdown",
      "source": [
        "filling numeric columns"
      ],
      "metadata": {
        "id": "1CzPyeRAnode"
      }
    },
    {
      "cell_type": "code",
      "source": [
        "data.isnull().sum()"
      ],
      "metadata": {
        "id": "Aw6kkWaOgFse",
        "colab": {
          "base_uri": "https://localhost:8080/"
        },
        "outputId": "d7473f72-31e5-4b52-99ce-b95801fd7e2e"
      },
      "execution_count": null,
      "outputs": [
        {
          "output_type": "execute_result",
          "data": {
            "text/plain": [
              "regio1                    0\n",
              "serviceCharge          4073\n",
              "heatingType           39051\n",
              "telekomTvOffer        28268\n",
              "newlyConst                0\n",
              "balcony                   0\n",
              "pricetrend             1666\n",
              "telekomUploadSpeed    28905\n",
              "totalRent                 0\n",
              "hasKitchen                0\n",
              "cellar                    0\n",
              "baseRent                  0\n",
              "livingSpace               0\n",
              "lift                      0\n",
              "typeOfFlat            32069\n",
              "noRooms                   0\n",
              "floor                 42265\n",
              "numberOfFloors        32977\n",
              "garden                    0\n",
              "dtype: int64"
            ]
          },
          "metadata": {},
          "execution_count": 20
        }
      ]
    },
    {
      "cell_type": "code",
      "source": [
        "num_values = {\"serviceCharge\": data.serviceCharge.mean(), \"pricetrend\": data.pricetrend.mean(), \"telekomUploadSpeed\": 0, \"numberOfFloors\":int(data.numberOfFloors.mean()), \"floor\": 1 }\n",
        "\n",
        "data.fillna(value=num_values, inplace=True)"
      ],
      "metadata": {
        "id": "6It42HCugFv5"
      },
      "execution_count": null,
      "outputs": []
    },
    {
      "cell_type": "code",
      "source": [
        "data.isnull().sum()"
      ],
      "metadata": {
        "id": "QEGr7wr6gFxy",
        "colab": {
          "base_uri": "https://localhost:8080/"
        },
        "outputId": "2843dc7f-906b-4975-f31c-fa95455dedff"
      },
      "execution_count": null,
      "outputs": [
        {
          "output_type": "execute_result",
          "data": {
            "text/plain": [
              "regio1                    0\n",
              "serviceCharge             0\n",
              "heatingType           39051\n",
              "telekomTvOffer        28268\n",
              "newlyConst                0\n",
              "balcony                   0\n",
              "pricetrend                0\n",
              "telekomUploadSpeed        0\n",
              "totalRent                 0\n",
              "hasKitchen                0\n",
              "cellar                    0\n",
              "baseRent                  0\n",
              "livingSpace               0\n",
              "lift                      0\n",
              "typeOfFlat            32069\n",
              "noRooms                   0\n",
              "floor                     0\n",
              "numberOfFloors            0\n",
              "garden                    0\n",
              "dtype: int64"
            ]
          },
          "metadata": {},
          "execution_count": 22
        }
      ]
    },
    {
      "cell_type": "markdown",
      "source": [
        "filling categorical columns"
      ],
      "metadata": {
        "id": "69ouydMknt3R"
      }
    },
    {
      "cell_type": "code",
      "source": [
        "cat_values = {\"heatingType\": data.heatingType.mode()[0], \"telekomTvOffer\": data.telekomTvOffer.mode()[0], \"typeOfFlat\": data.typeOfFlat.mode()[0]}\n",
        "data.fillna(value=cat_values, inplace=True)"
      ],
      "metadata": {
        "id": "j-1x6xgGgF2w"
      },
      "execution_count": null,
      "outputs": []
    },
    {
      "cell_type": "code",
      "source": [
        "data.isnull().sum()"
      ],
      "metadata": {
        "id": "3-8JhzmLgF6h",
        "colab": {
          "base_uri": "https://localhost:8080/"
        },
        "outputId": "4ad98898-7a67-4a00-fce1-cc2c0eb0047d"
      },
      "execution_count": null,
      "outputs": [
        {
          "output_type": "execute_result",
          "data": {
            "text/plain": [
              "regio1                0\n",
              "serviceCharge         0\n",
              "heatingType           0\n",
              "telekomTvOffer        0\n",
              "newlyConst            0\n",
              "balcony               0\n",
              "pricetrend            0\n",
              "telekomUploadSpeed    0\n",
              "totalRent             0\n",
              "hasKitchen            0\n",
              "cellar                0\n",
              "baseRent              0\n",
              "livingSpace           0\n",
              "lift                  0\n",
              "typeOfFlat            0\n",
              "noRooms               0\n",
              "floor                 0\n",
              "numberOfFloors        0\n",
              "garden                0\n",
              "dtype: int64"
            ]
          },
          "metadata": {},
          "execution_count": 24
        }
      ]
    },
    {
      "cell_type": "code",
      "source": [
        "data.columns"
      ],
      "metadata": {
        "id": "C6BGum22YMYm",
        "colab": {
          "base_uri": "https://localhost:8080/"
        },
        "outputId": "294fed35-11fa-4dd8-c65f-0e4ea29b2482"
      },
      "execution_count": null,
      "outputs": [
        {
          "output_type": "execute_result",
          "data": {
            "text/plain": [
              "Index(['regio1', 'serviceCharge', 'heatingType', 'telekomTvOffer',\n",
              "       'newlyConst', 'balcony', 'pricetrend', 'telekomUploadSpeed',\n",
              "       'totalRent', 'hasKitchen', 'cellar', 'baseRent', 'livingSpace', 'lift',\n",
              "       'typeOfFlat', 'noRooms', 'floor', 'numberOfFloors', 'garden'],\n",
              "      dtype='object')"
            ]
          },
          "metadata": {},
          "execution_count": 25
        }
      ]
    },
    {
      "cell_type": "code",
      "source": [
        "out_cols = ['serviceCharge', 'pricetrend', 'telekomUploadSpeed', 'totalRent', 'baseRent', 'livingSpace', 'noRooms', 'floor', 'numberOfFloors']"
      ],
      "metadata": {
        "id": "oYUgwCGSVtY8"
      },
      "execution_count": null,
      "outputs": []
    },
    {
      "cell_type": "code",
      "source": [
        "sns.boxplot(data['serviceCharge'])"
      ],
      "metadata": {
        "id": "V1pRrFSkMPPp",
        "colab": {
          "base_uri": "https://localhost:8080/",
          "height": 354
        },
        "outputId": "309bd458-bc8c-490f-aa19-966e46e5568e"
      },
      "execution_count": null,
      "outputs": [
        {
          "output_type": "stream",
          "name": "stderr",
          "text": [
            "/usr/local/lib/python3.7/dist-packages/seaborn/_decorators.py:43: FutureWarning: Pass the following variable as a keyword arg: x. From version 0.12, the only valid positional argument will be `data`, and passing other arguments without an explicit keyword will result in an error or misinterpretation.\n",
            "  FutureWarning\n"
          ]
        },
        {
          "output_type": "execute_result",
          "data": {
            "text/plain": [
              "<matplotlib.axes._subplots.AxesSubplot at 0x7fabb576aa50>"
            ]
          },
          "metadata": {},
          "execution_count": 27
        },
        {
          "output_type": "display_data",
          "data": {
            "text/plain": [
              "<Figure size 432x288 with 1 Axes>"
            ],
            "image/png": "[encoded data removed]"
          },
          "metadata": {
            "needs_background": "light"
          }
        }
      ]
    },
    {
      "cell_type": "code",
      "source": [
        "sns.boxplot(data['pricetrend'])"
      ],
      "metadata": {
        "colab": {
          "base_uri": "https://localhost:8080/",
          "height": 354
        },
        "id": "aZUtF8mOPWOp",
        "outputId": "59f842ab-6361-4bc2-cd79-05a4498d43df"
      },
      "execution_count": null,
      "outputs": [
        {
          "output_type": "stream",
          "name": "stderr",
          "text": [
            "/usr/local/lib/python3.7/dist-packages/seaborn/_decorators.py:43: FutureWarning: Pass the following variable as a keyword arg: x. From version 0.12, the only valid positional argument will be `data`, and passing other arguments without an explicit keyword will result in an error or misinterpretation.\n",
            "  FutureWarning\n"
          ]
        },
        {
          "output_type": "execute_result",
          "data": {
            "text/plain": [
              "<matplotlib.axes._subplots.AxesSubplot at 0x7fabb1ebcd10>"
            ]
          },
          "metadata": {},
          "execution_count": 28
        },
        {
          "output_type": "display_data",
          "data": {
            "text/plain": [
              "<Figure size 432x288 with 1 Axes>"
            ],
            "image/png": "[encoded data removed]"
          },
          "metadata": {
            "needs_background": "light"
          }
        }
      ]
    },
    {
      "cell_type": "code",
      "source": [
        "sns.boxplot(data['telekomUploadSpeed'])"
      ],
      "metadata": {
        "colab": {
          "base_uri": "https://localhost:8080/",
          "height": 354
        },
        "id": "RrIpQuknPWQM",
        "outputId": "ae2630fd-176d-41b7-cbd7-133282e7fc88"
      },
      "execution_count": null,
      "outputs": [
        {
          "output_type": "stream",
          "name": "stderr",
          "text": [
            "/usr/local/lib/python3.7/dist-packages/seaborn/_decorators.py:43: FutureWarning: Pass the following variable as a keyword arg: x. From version 0.12, the only valid positional argument will be `data`, and passing other arguments without an explicit keyword will result in an error or misinterpretation.\n",
            "  FutureWarning\n"
          ]
        },
        {
          "output_type": "execute_result",
          "data": {
            "text/plain": [
              "<matplotlib.axes._subplots.AxesSubplot at 0x7fabb0b1de50>"
            ]
          },
          "metadata": {},
          "execution_count": 29
        },
        {
          "output_type": "display_data",
          "data": {
            "text/plain": [
              "<Figure size 432x288 with 1 Axes>"
            ],
            "image/png": "[encoded data removed]"
          },
          "metadata": {
            "needs_background": "light"
          }
        }
      ]
    },
    {
      "cell_type": "code",
      "source": [
        "sns.boxplot(data['totalRent'])"
      ],
      "metadata": {
        "colab": {
          "base_uri": "https://localhost:8080/",
          "height": 354
        },
        "id": "oEIKk2JjPWTG",
        "outputId": "8ea62325-da69-455a-e85f-2d9de415a02c"
      },
      "execution_count": null,
      "outputs": [
        {
          "output_type": "stream",
          "name": "stderr",
          "text": [
            "/usr/local/lib/python3.7/dist-packages/seaborn/_decorators.py:43: FutureWarning: Pass the following variable as a keyword arg: x. From version 0.12, the only valid positional argument will be `data`, and passing other arguments without an explicit keyword will result in an error or misinterpretation.\n",
            "  FutureWarning\n"
          ]
        },
        {
          "output_type": "execute_result",
          "data": {
            "text/plain": [
              "<matplotlib.axes._subplots.AxesSubplot at 0x7fabb4751990>"
            ]
          },
          "metadata": {},
          "execution_count": 30
        },
        {
          "output_type": "display_data",
          "data": {
            "text/plain": [
              "<Figure size 432x288 with 1 Axes>"
            ],
            "image/png": "[encoded data removed]"
          },
          "metadata": {
            "needs_background": "light"
          }
        }
      ]
    },
    {
      "cell_type": "code",
      "source": [
        "sns.boxplot(data['baseRent'])"
      ],
      "metadata": {
        "colab": {
          "base_uri": "https://localhost:8080/",
          "height": 354
        },
        "id": "N6C91-oBPWUH",
        "outputId": "a22c9c94-3d29-4964-b7b3-8b83e0e7bc65"
      },
      "execution_count": null,
      "outputs": [
        {
          "output_type": "stream",
          "name": "stderr",
          "text": [
            "/usr/local/lib/python3.7/dist-packages/seaborn/_decorators.py:43: FutureWarning: Pass the following variable as a keyword arg: x. From version 0.12, the only valid positional argument will be `data`, and passing other arguments without an explicit keyword will result in an error or misinterpretation.\n",
            "  FutureWarning\n"
          ]
        },
        {
          "output_type": "execute_result",
          "data": {
            "text/plain": [
              "<matplotlib.axes._subplots.AxesSubplot at 0x7fabb2035490>"
            ]
          },
          "metadata": {},
          "execution_count": 31
        },
        {
          "output_type": "display_data",
          "data": {
            "text/plain": [
              "<Figure size 432x288 with 1 Axes>"
            ],
            "image/png": "[encoded data removed]"
          },
          "metadata": {
            "needs_background": "light"
          }
        }
      ]
    },
    {
      "cell_type": "code",
      "source": [
        "sns.boxplot(data['livingSpace'])"
      ],
      "metadata": {
        "colab": {
          "base_uri": "https://localhost:8080/",
          "height": 354
        },
        "id": "gYqYc-9ePpbB",
        "outputId": "488b09eb-6f75-40b4-9b98-4fa35bd96be1"
      },
      "execution_count": null,
      "outputs": [
        {
          "output_type": "stream",
          "name": "stderr",
          "text": [
            "/usr/local/lib/python3.7/dist-packages/seaborn/_decorators.py:43: FutureWarning: Pass the following variable as a keyword arg: x. From version 0.12, the only valid positional argument will be `data`, and passing other arguments without an explicit keyword will result in an error or misinterpretation.\n",
            "  FutureWarning\n"
          ]
        },
        {
          "output_type": "execute_result",
          "data": {
            "text/plain": [
              "<matplotlib.axes._subplots.AxesSubplot at 0x7fabb3a737d0>"
            ]
          },
          "metadata": {},
          "execution_count": 32
        },
        {
          "output_type": "display_data",
          "data": {
            "text/plain": [
              "<Figure size 432x288 with 1 Axes>"
            ],
            "image/png": "[encoded data removed]"
          },
          "metadata": {
            "needs_background": "light"
          }
        }
      ]
    },
    {
      "cell_type": "code",
      "source": [
        "sns.boxplot(data['noRooms'])"
      ],
      "metadata": {
        "colab": {
          "base_uri": "https://localhost:8080/",
          "height": 354
        },
        "id": "7i2Uk58_PWX-",
        "outputId": "d40744f2-d538-4b10-999f-5ea5d159b5a3"
      },
      "execution_count": null,
      "outputs": [
        {
          "output_type": "stream",
          "name": "stderr",
          "text": [
            "/usr/local/lib/python3.7/dist-packages/seaborn/_decorators.py:43: FutureWarning: Pass the following variable as a keyword arg: x. From version 0.12, the only valid positional argument will be `data`, and passing other arguments without an explicit keyword will result in an error or misinterpretation.\n",
            "  FutureWarning\n"
          ]
        },
        {
          "output_type": "execute_result",
          "data": {
            "text/plain": [
              "<matplotlib.axes._subplots.AxesSubplot at 0x7fabaff077d0>"
            ]
          },
          "metadata": {},
          "execution_count": 33
        },
        {
          "output_type": "display_data",
          "data": {
            "text/plain": [
              "<Figure size 432x288 with 1 Axes>"
            ],
            "image/png": "[encoded data removed]"
          },
          "metadata": {
            "needs_background": "light"
          }
        }
      ]
    },
    {
      "cell_type": "code",
      "source": [
        "sns.boxplot(data['floor'])"
      ],
      "metadata": {
        "colab": {
          "base_uri": "https://localhost:8080/",
          "height": 354
        },
        "id": "nArIAWsXQFE6",
        "outputId": "47498b9a-2ddc-4fa4-cb10-7b1520a44fdd"
      },
      "execution_count": null,
      "outputs": [
        {
          "output_type": "stream",
          "name": "stderr",
          "text": [
            "/usr/local/lib/python3.7/dist-packages/seaborn/_decorators.py:43: FutureWarning: Pass the following variable as a keyword arg: x. From version 0.12, the only valid positional argument will be `data`, and passing other arguments without an explicit keyword will result in an error or misinterpretation.\n",
            "  FutureWarning\n"
          ]
        },
        {
          "output_type": "execute_result",
          "data": {
            "text/plain": [
              "<matplotlib.axes._subplots.AxesSubplot at 0x7fabb0b53ad0>"
            ]
          },
          "metadata": {},
          "execution_count": 34
        },
        {
          "output_type": "display_data",
          "data": {
            "text/plain": [
              "<Figure size 432x288 with 1 Axes>"
            ],
            "image/png": "[encoded data removed]"
          },
          "metadata": {
            "needs_background": "light"
          }
        }
      ]
    },
    {
      "cell_type": "code",
      "source": [
        "sns.boxplot(data['numberOfFloors'])"
      ],
      "metadata": {
        "colab": {
          "base_uri": "https://localhost:8080/",
          "height": 354
        },
        "id": "R45mH3VwQFJM",
        "outputId": "4f8d6dbc-bd1a-40d7-ac2a-4e0f67646e0e"
      },
      "execution_count": null,
      "outputs": [
        {
          "output_type": "stream",
          "name": "stderr",
          "text": [
            "/usr/local/lib/python3.7/dist-packages/seaborn/_decorators.py:43: FutureWarning: Pass the following variable as a keyword arg: x. From version 0.12, the only valid positional argument will be `data`, and passing other arguments without an explicit keyword will result in an error or misinterpretation.\n",
            "  FutureWarning\n"
          ]
        },
        {
          "output_type": "execute_result",
          "data": {
            "text/plain": [
              "<matplotlib.axes._subplots.AxesSubplot at 0x7fabb19bf750>"
            ]
          },
          "metadata": {},
          "execution_count": 35
        },
        {
          "output_type": "display_data",
          "data": {
            "text/plain": [
              "<Figure size 432x288 with 1 Axes>"
            ],
            "image/png": "[encoded data removed]"
          },
          "metadata": {
            "needs_background": "light"
          }
        }
      ]
    },
    {
      "cell_type": "code",
      "source": [
        "func_data = pd.DataFrame(columns=data.columns)\n",
        "func_data = data.copy()"
      ],
      "metadata": {
        "id": "iugXt0Hxbsi7"
      },
      "execution_count": null,
      "outputs": []
    },
    {
      "cell_type": "code",
      "source": [
        "def del_outliers():\n",
        "  for column_name in out_cols:\n",
        "    Q1 = np.percentile(func_data[column_name], 25,interpolation = 'midpoint')\n",
        "    Q3 = np.percentile(func_data[column_name], 75,interpolation = 'midpoint')\n",
        "    IQR = Q3 - Q1\n",
        "    \n",
        "    print(f'value of IQR of column {column_name} ->{IQR}')\n",
        "    print(f\"Shape before delete outliers of column {column_name}: {func_data.shape}\")\n",
        "\n",
        "    upper_index = func_data[func_data[column_name] >= (Q3+1.5*IQR)].index.values\n",
        "    lower_index = func_data[func_data[column_name] <= (Q1-1.5*IQR)].index.values\n",
        "\n",
        "    func_data.drop(index = upper_index, inplace=True)\n",
        "    func_data.drop(index = lower_index, inplace=True)\n",
        "\n",
        "    print(f\"New Shape  after delete outliers of column {column_name}: {func_data.shape}\")\n",
        "    print('------------------------')\n",
        "\n",
        "  return func_data"
      ],
      "metadata": {
        "id": "T_EA92uePWdO"
      },
      "execution_count": null,
      "outputs": []
    },
    {
      "cell_type": "code",
      "source": [
        "cpu_count()"
      ],
      "metadata": {
        "colab": {
          "base_uri": "https://localhost:8080/"
        },
        "id": "zRd5WdGEGaqX",
        "outputId": "2895104f-89dc-4fe2-ec47-0a63444cdeb5"
      },
      "execution_count": null,
      "outputs": [
        {
          "output_type": "execute_result",
          "data": {
            "text/plain": [
              "2"
            ]
          },
          "metadata": {},
          "execution_count": 59
        }
      ]
    },
    {
      "cell_type": "code",
      "source": [
        "s_time = time.time()\n",
        "with Pool(cpu_count()) as p:\n",
        "  data_multi = del_outliers()\n",
        "print(f'run time : {time.time() - s_time}')"
      ],
      "metadata": {
        "colab": {
          "base_uri": "https://localhost:8080/"
        },
        "id": "iJfhuzPLGar-",
        "outputId": "bd800c67-4686-4650-8d48-2c4b08837f05"
      },
      "execution_count": null,
      "outputs": [
        {
          "output_type": "stream",
          "name": "stdout",
          "text": [
            "value of IQR of column serviceCharge ->86.0\n",
            "Shape before delete outliers of column serviceCharge: (239267, 19)\n",
            "New Shape  after delete outliers of column serviceCharge: (229812, 19)\n",
            "------------------------\n",
            "value of IQR of column pricetrend ->2.58\n",
            "Shape before delete outliers of column pricetrend: (229812, 19)\n",
            "New Shape  after delete outliers of column pricetrend: (225726, 19)\n",
            "------------------------\n",
            "value of IQR of column telekomUploadSpeed ->37.6\n",
            "Shape before delete outliers of column telekomUploadSpeed: (225726, 19)\n",
            "New Shape  after delete outliers of column telekomUploadSpeed: (225596, 19)\n",
            "------------------------\n",
            "value of IQR of column totalRent ->449.0\n",
            "Shape before delete outliers of column totalRent: (225596, 19)\n",
            "New Shape  after delete outliers of column totalRent: (215505, 19)\n",
            "------------------------\n",
            "value of IQR of column baseRent ->360.0\n",
            "Shape before delete outliers of column baseRent: (215505, 19)\n",
            "New Shape  after delete outliers of column baseRent: (211021, 19)\n",
            "------------------------\n",
            "value of IQR of column livingSpace ->28.0\n",
            "Shape before delete outliers of column livingSpace: (211021, 19)\n",
            "New Shape  after delete outliers of column livingSpace: (206011, 19)\n",
            "------------------------\n",
            "value of IQR of column noRooms ->1.0\n",
            "Shape before delete outliers of column noRooms: (206011, 19)\n",
            "New Shape  after delete outliers of column noRooms: (203843, 19)\n",
            "------------------------\n",
            "value of IQR of column floor ->2.0\n",
            "Shape before delete outliers of column floor: (203843, 19)\n",
            "New Shape  after delete outliers of column floor: (199708, 19)\n",
            "------------------------\n",
            "value of IQR of column numberOfFloors ->2.0\n",
            "Shape before delete outliers of column numberOfFloors: (199708, 19)\n",
            "New Shape  after delete outliers of column numberOfFloors: (196490, 19)\n",
            "------------------------\n",
            "run time : 0.9017238616943359\n"
          ]
        }
      ]
    },
    {
      "cell_type": "code",
      "source": [
        "func_data = pd.DataFrame(columns=data.columns)\n",
        "func_data = data.copy()"
      ],
      "metadata": {
        "id": "XJgwnmeGcDTB"
      },
      "execution_count": null,
      "outputs": []
    },
    {
      "cell_type": "code",
      "source": [
        "s_time = time.time()\n",
        "data = del_outliers()\n",
        "print(f'run time : {time.time() - s_time}')"
      ],
      "metadata": {
        "colab": {
          "base_uri": "https://localhost:8080/"
        },
        "id": "BAd3pyLiYNe4",
        "outputId": "9613ae9d-8730-47b5-8167-92d1fcbc1480"
      },
      "execution_count": null,
      "outputs": [
        {
          "output_type": "stream",
          "name": "stdout",
          "text": [
            "value of IQR of column serviceCharge ->86.0\n",
            "Shape before delete outliers of column serviceCharge: (239267, 19)\n",
            "New Shape  after delete outliers of column serviceCharge: (229812, 19)\n",
            "------------------------\n",
            "value of IQR of column pricetrend ->2.58\n",
            "Shape before delete outliers of column pricetrend: (229812, 19)\n",
            "New Shape  after delete outliers of column pricetrend: (225726, 19)\n",
            "------------------------\n",
            "value of IQR of column telekomUploadSpeed ->37.6\n",
            "Shape before delete outliers of column telekomUploadSpeed: (225726, 19)\n",
            "New Shape  after delete outliers of column telekomUploadSpeed: (225596, 19)\n",
            "------------------------\n",
            "value of IQR of column totalRent ->449.0\n",
            "Shape before delete outliers of column totalRent: (225596, 19)\n",
            "New Shape  after delete outliers of column totalRent: (215505, 19)\n",
            "------------------------\n",
            "value of IQR of column baseRent ->360.0\n",
            "Shape before delete outliers of column baseRent: (215505, 19)\n",
            "New Shape  after delete outliers of column baseRent: (211021, 19)\n",
            "------------------------\n",
            "value of IQR of column livingSpace ->28.0\n",
            "Shape before delete outliers of column livingSpace: (211021, 19)\n",
            "New Shape  after delete outliers of column livingSpace: (206011, 19)\n",
            "------------------------\n",
            "value of IQR of column noRooms ->1.0\n",
            "Shape before delete outliers of column noRooms: (206011, 19)\n",
            "New Shape  after delete outliers of column noRooms: (203843, 19)\n",
            "------------------------\n",
            "value of IQR of column floor ->2.0\n",
            "Shape before delete outliers of column floor: (203843, 19)\n",
            "New Shape  after delete outliers of column floor: (199708, 19)\n",
            "------------------------\n",
            "value of IQR of column numberOfFloors ->2.0\n",
            "Shape before delete outliers of column numberOfFloors: (199708, 19)\n",
            "New Shape  after delete outliers of column numberOfFloors: (196490, 19)\n",
            "------------------------\n",
            "run time : 0.5075664520263672\n"
          ]
        }
      ]
    },
    {
      "cell_type": "code",
      "source": [
        "data"
      ],
      "metadata": {
        "colab": {
          "base_uri": "https://localhost:8080/",
          "height": 488
        },
        "id": "EuTeDTawcKxB",
        "outputId": "1b2e28ea-c2e3-4f61-b46e-69a2250b29b0"
      },
      "execution_count": null,
      "outputs": [
        {
          "output_type": "execute_result",
          "data": {
            "text/plain": [
              "                     regio1  serviceCharge                     heatingType  \\\n",
              "0       Nordrhein_Westfalen         245.00                 central_heating   \n",
              "2                   Sachsen         255.00                   floor_heating   \n",
              "3                   Sachsen          58.15                district_heating   \n",
              "4                    Bremen         138.00  self_contained_central_heating   \n",
              "6                   Sachsen          70.00  self_contained_central_heating   \n",
              "...                     ...            ...                             ...   \n",
              "268844  Nordrhein_Westfalen          80.00                     gas_heating   \n",
              "268845               Bayern          90.00                       heat_pump   \n",
              "268846               Hessen         220.00                     gas_heating   \n",
              "268847               Hessen         220.00                 central_heating   \n",
              "268848  Nordrhein_Westfalen         175.00                       heat_pump   \n",
              "\n",
              "       telekomTvOffer  newlyConst  balcony  pricetrend  telekomUploadSpeed  \\\n",
              "0       ONE_YEAR_FREE       False    False        4.62                10.0   \n",
              "2       ONE_YEAR_FREE        True     True        2.72                 2.4   \n",
              "3       ONE_YEAR_FREE       False     True        1.53                40.0   \n",
              "4       ONE_YEAR_FREE       False     True        2.46                 0.0   \n",
              "6       ONE_YEAR_FREE       False    False        1.01                 2.4   \n",
              "...               ...         ...      ...         ...                 ...   \n",
              "268844  ONE_YEAR_FREE       False    False        2.58                 2.4   \n",
              "268845  ONE_YEAR_FREE       False     True        2.74                10.0   \n",
              "268846  ONE_YEAR_FREE       False     True        6.49                 0.0   \n",
              "268847  ONE_YEAR_FREE       False     True        2.90                40.0   \n",
              "268848  ONE_YEAR_FREE        True     True        4.39                 0.0   \n",
              "\n",
              "        totalRent  hasKitchen  cellar  baseRent  livingSpace   lift  \\\n",
              "0          840.00       False    True     595.0        86.00  False   \n",
              "2         1300.00       False    True     965.0        83.80   True   \n",
              "3          488.38       False   False     343.0        58.15  False   \n",
              "4          903.00       False   False     765.0        84.97  False   \n",
              "6          380.00       False    True     310.0        62.00  False   \n",
              "...           ...         ...     ...       ...          ...    ...   \n",
              "268844     670.00       False   False     590.0        85.00  False   \n",
              "268845     910.00       False    True     820.0        90.00  False   \n",
              "268846    1150.00        True   False     930.0       115.00  False   \n",
              "268847     930.00       False    True     650.0        95.00  False   \n",
              "268848    1015.00       False    True     840.0        70.00   True   \n",
              "\n",
              "          typeOfFlat  noRooms  floor  numberOfFloors  garden  \n",
              "0       ground_floor      4.0    1.0             3.0    True  \n",
              "2          apartment      3.0    3.0             4.0   False  \n",
              "3              other      3.0    3.0             3.0   False  \n",
              "4          apartment      3.0    1.0             1.0   False  \n",
              "6          apartment      2.0    1.0             4.0    True  \n",
              "...              ...      ...    ...             ...     ...  \n",
              "268844   roof_storey      3.0    3.0             3.0   False  \n",
              "268845   roof_storey      3.0    1.0             3.0   False  \n",
              "268846     apartment      3.5    1.0             1.0   False  \n",
              "268847     apartment      4.0    1.0             2.0    True  \n",
              "268848     apartment      2.0    1.0             5.0   False  \n",
              "\n",
              "[196490 rows x 19 columns]"
            ],
            "text/html": [
              "\n",
              "  <div id=\"df-f21c6053-90dd-4997-86be-ff064779036b\">\n",
              "    <div class=\"colab-df-container\">\n",
              "      <div>\n",
              "<style scoped>\n",
              "    .dataframe tbody tr th:only-of-type {\n",
              "        vertical-align: middle;\n",
              "    }\n",
              "\n",
              "    .dataframe tbody tr th {\n",
              "        vertical-align: top;\n",
              "    }\n",
              "\n",
              "    .dataframe thead th {\n",
              "        text-align: right;\n",
              "    }\n",
              "</style>\n",
              "<table border=\"1\" class=\"dataframe\">\n",
              "  <thead>\n",
              "    <tr style=\"text-align: right;\">\n",
              "      <th></th>\n",
              "      <th>regio1</th>\n",
              "      <th>serviceCharge</th>\n",
              "      <th>heatingType</th>\n",
              "      <th>telekomTvOffer</th>\n",
              "      <th>newlyConst</th>\n",
              "      <th>balcony</th>\n",
              "      <th>pricetrend</th>\n",
              "      <th>telekomUploadSpeed</th>\n",
              "      <th>totalRent</th>\n",
              "      <th>hasKitchen</th>\n",
              "      <th>cellar</th>\n",
              "      <th>baseRent</th>\n",
              "      <th>livingSpace</th>\n",
              "      <th>lift</th>\n",
              "      <th>typeOfFlat</th>\n",
              "      <th>noRooms</th>\n",
              "      <th>floor</th>\n",
              "      <th>numberOfFloors</th>\n",
              "      <th>garden</th>\n",
              "    </tr>\n",
              "  </thead>\n",
              "  <tbody>\n",
              "    <tr>\n",
              "      <th>0</th>\n",
              "      <td>Nordrhein_Westfalen</td>\n",
              "      <td>245.00</td>\n",
              "      <td>central_heating</td>\n",
              "      <td>ONE_YEAR_FREE</td>\n",
              "      <td>False</td>\n",
              "      <td>False</td>\n",
              "      <td>4.62</td>\n",
              "      <td>10.0</td>\n",
              "      <td>840.00</td>\n",
              "      <td>False</td>\n",
              "      <td>True</td>\n",
              "      <td>595.0</td>\n",
              "      <td>86.00</td>\n",
              "      <td>False</td>\n",
              "      <td>ground_floor</td>\n",
              "      <td>4.0</td>\n",
              "      <td>1.0</td>\n",
              "      <td>3.0</td>\n",
              "      <td>True</td>\n",
              "    </tr>\n",
              "    <tr>\n",
              "      <th>2</th>\n",
              "      <td>Sachsen</td>\n",
              "      <td>255.00</td>\n",
              "      <td>floor_heating</td>\n",
              "      <td>ONE_YEAR_FREE</td>\n",
              "      <td>True</td>\n",
              "      <td>True</td>\n",
              "      <td>2.72</td>\n",
              "      <td>2.4</td>\n",
              "      <td>1300.00</td>\n",
              "      <td>False</td>\n",
              "      <td>True</td>\n",
              "      <td>965.0</td>\n",
              "      <td>83.80</td>\n",
              "      <td>True</td>\n",
              "      <td>apartment</td>\n",
              "      <td>3.0</td>\n",
              "      <td>3.0</td>\n",
              "      <td>4.0</td>\n",
              "      <td>False</td>\n",
              "    </tr>\n",
              "    <tr>\n",
              "      <th>3</th>\n",
              "      <td>Sachsen</td>\n",
              "      <td>58.15</td>\n",
              "      <td>district_heating</td>\n",
              "      <td>ONE_YEAR_FREE</td>\n",
              "      <td>False</td>\n",
              "      <td>True</td>\n",
              "      <td>1.53</td>\n",
              "      <td>40.0</td>\n",
              "      <td>488.38</td>\n",
              "      <td>False</td>\n",
              "      <td>False</td>\n",
              "      <td>343.0</td>\n",
              "      <td>58.15</td>\n",
              "      <td>False</td>\n",
              "      <td>other</td>\n",
              "      <td>3.0</td>\n",
              "      <td>3.0</td>\n",
              "      <td>3.0</td>\n",
              "      <td>False</td>\n",
              "    </tr>\n",
              "    <tr>\n",
              "      <th>4</th>\n",
              "      <td>Bremen</td>\n",
              "      <td>138.00</td>\n",
              "      <td>self_contained_central_heating</td>\n",
              "      <td>ONE_YEAR_FREE</td>\n",
              "      <td>False</td>\n",
              "      <td>True</td>\n",
              "      <td>2.46</td>\n",
              "      <td>0.0</td>\n",
              "      <td>903.00</td>\n",
              "      <td>False</td>\n",
              "      <td>False</td>\n",
              "      <td>765.0</td>\n",
              "      <td>84.97</td>\n",
              "      <td>False</td>\n",
              "      <td>apartment</td>\n",
              "      <td>3.0</td>\n",
              "      <td>1.0</td>\n",
              "      <td>1.0</td>\n",
              "      <td>False</td>\n",
              "    </tr>\n",
              "    <tr>\n",
              "      <th>6</th>\n",
              "      <td>Sachsen</td>\n",
              "      <td>70.00</td>\n",
              "      <td>self_contained_central_heating</td>\n",
              "      <td>ONE_YEAR_FREE</td>\n",
              "      <td>False</td>\n",
              "      <td>False</td>\n",
              "      <td>1.01</td>\n",
              "      <td>2.4</td>\n",
              "      <td>380.00</td>\n",
              "      <td>False</td>\n",
              "      <td>True</td>\n",
              "      <td>310.0</td>\n",
              "      <td>62.00</td>\n",
              "      <td>False</td>\n",
              "      <td>apartment</td>\n",
              "      <td>2.0</td>\n",
              "      <td>1.0</td>\n",
              "      <td>4.0</td>\n",
              "      <td>True</td>\n",
              "    </tr>\n",
              "    <tr>\n",
              "      <th>...</th>\n",
              "      <td>...</td>\n",
              "      <td>...</td>\n",
              "      <td>...</td>\n",
              "      <td>...</td>\n",
              "      <td>...</td>\n",
              "      <td>...</td>\n",
              "      <td>...</td>\n",
              "      <td>...</td>\n",
              "      <td>...</td>\n",
              "      <td>...</td>\n",
              "      <td>...</td>\n",
              "      <td>...</td>\n",
              "      <td>...</td>\n",
              "      <td>...</td>\n",
              "      <td>...</td>\n",
              "      <td>...</td>\n",
              "      <td>...</td>\n",
              "      <td>...</td>\n",
              "      <td>...</td>\n",
              "    </tr>\n",
              "    <tr>\n",
              "      <th>268844</th>\n",
              "      <td>Nordrhein_Westfalen</td>\n",
              "      <td>80.00</td>\n",
              "      <td>gas_heating</td>\n",
              "      <td>ONE_YEAR_FREE</td>\n",
              "      <td>False</td>\n",
              "      <td>False</td>\n",
              "      <td>2.58</td>\n",
              "      <td>2.4</td>\n",
              "      <td>670.00</td>\n",
              "      <td>False</td>\n",
              "      <td>False</td>\n",
              "      <td>590.0</td>\n",
              "      <td>85.00</td>\n",
              "      <td>False</td>\n",
              "      <td>roof_storey</td>\n",
              "      <td>3.0</td>\n",
              "      <td>3.0</td>\n",
              "      <td>3.0</td>\n",
              "      <td>False</td>\n",
              "    </tr>\n",
              "    <tr>\n",
              "      <th>268845</th>\n",
              "      <td>Bayern</td>\n",
              "      <td>90.00</td>\n",
              "      <td>heat_pump</td>\n",
              "      <td>ONE_YEAR_FREE</td>\n",
              "      <td>False</td>\n",
              "      <td>True</td>\n",
              "      <td>2.74</td>\n",
              "      <td>10.0</td>\n",
              "      <td>910.00</td>\n",
              "      <td>False</td>\n",
              "      <td>True</td>\n",
              "      <td>820.0</td>\n",
              "      <td>90.00</td>\n",
              "      <td>False</td>\n",
              "      <td>roof_storey</td>\n",
              "      <td>3.0</td>\n",
              "      <td>1.0</td>\n",
              "      <td>3.0</td>\n",
              "      <td>False</td>\n",
              "    </tr>\n",
              "    <tr>\n",
              "      <th>268846</th>\n",
              "      <td>Hessen</td>\n",
              "      <td>220.00</td>\n",
              "      <td>gas_heating</td>\n",
              "      <td>ONE_YEAR_FREE</td>\n",
              "      <td>False</td>\n",
              "      <td>True</td>\n",
              "      <td>6.49</td>\n",
              "      <td>0.0</td>\n",
              "      <td>1150.00</td>\n",
              "      <td>True</td>\n",
              "      <td>False</td>\n",
              "      <td>930.0</td>\n",
              "      <td>115.00</td>\n",
              "      <td>False</td>\n",
              "      <td>apartment</td>\n",
              "      <td>3.5</td>\n",
              "      <td>1.0</td>\n",
              "      <td>1.0</td>\n",
              "      <td>False</td>\n",
              "    </tr>\n",
              "    <tr>\n",
              "      <th>268847</th>\n",
              "      <td>Hessen</td>\n",
              "      <td>220.00</td>\n",
              "      <td>central_heating</td>\n",
              "      <td>ONE_YEAR_FREE</td>\n",
              "      <td>False</td>\n",
              "      <td>True</td>\n",
              "      <td>2.90</td>\n",
              "      <td>40.0</td>\n",
              "      <td>930.00</td>\n",
              "      <td>False</td>\n",
              "      <td>True</td>\n",
              "      <td>650.0</td>\n",
              "      <td>95.00</td>\n",
              "      <td>False</td>\n",
              "      <td>apartment</td>\n",
              "      <td>4.0</td>\n",
              "      <td>1.0</td>\n",
              "      <td>2.0</td>\n",
              "      <td>True</td>\n",
              "    </tr>\n",
              "    <tr>\n",
              "      <th>268848</th>\n",
              "      <td>Nordrhein_Westfalen</td>\n",
              "      <td>175.00</td>\n",
              "      <td>heat_pump</td>\n",
              "      <td>ONE_YEAR_FREE</td>\n",
              "      <td>True</td>\n",
              "      <td>True</td>\n",
              "      <td>4.39</td>\n",
              "      <td>0.0</td>\n",
              "      <td>1015.00</td>\n",
              "      <td>False</td>\n",
              "      <td>True</td>\n",
              "      <td>840.0</td>\n",
              "      <td>70.00</td>\n",
              "      <td>True</td>\n",
              "      <td>apartment</td>\n",
              "      <td>2.0</td>\n",
              "      <td>1.0</td>\n",
              "      <td>5.0</td>\n",
              "      <td>False</td>\n",
              "    </tr>\n",
              "  </tbody>\n",
              "</table>\n",
              "<p>196490 rows × 19 columns</p>\n",
              "</div>\n",
              "      <button class=\"colab-df-convert\" onclick=\"convertToInteractive('df-f21c6053-90dd-4997-86be-ff064779036b')\"\n",
              "              title=\"Convert this dataframe to an interactive table.\"\n",
              "              style=\"display:none;\">\n",
              "        \n",
              "  <svg xmlns=\"http://www.w3.org/2000/svg\" height=\"24px\"viewBox=\"0 0 24 24\"\n",
              "       width=\"24px\">\n",
              "    <path d=\"M0 0h24v24H0V0z\" fill=\"none\"/>\n",
              "    <path d=\"M18.56 5.44l.94 2.06.94-2.06 2.06-.94-2.06-.94-.94-2.06-.94 2.06-2.06.94zm-11 1L8.5 8.5l.94-2.06 2.06-.94-2.06-.94L8.5 2.5l-.94 2.06-2.06.94zm10 10l.94 2.06.94-2.06 2.06-.94-2.06-.94-.94-2.06-.94 2.06-2.06.94z\"/><path d=\"M17.41 7.96l-1.37-1.37c-.4-.4-.92-.59-1.43-.59-.52 0-1.04.2-1.43.59L10.3 9.45l-7.72 7.72c-.78.78-.78 2.05 0 2.83L4 21.41c.39.39.9.59 1.41.59.51 0 1.02-.2 1.41-.59l7.78-7.78 2.81-2.81c.8-.78.8-2.07 0-2.86zM5.41 20L4 18.59l7.72-7.72 1.47 1.35L5.41 20z\"/>\n",
              "  </svg>\n",
              "      </button>\n",
              "      \n",
              "  <style>\n",
              "    .colab-df-container {\n",
              "      display:flex;\n",
              "      flex-wrap:wrap;\n",
              "      gap: 12px;\n",
              "    }\n",
              "\n",
              "    .colab-df-convert {\n",
              "      background-color: #E8F0FE;\n",
              "      border: none;\n",
              "      border-radius: 50%;\n",
              "      cursor: pointer;\n",
              "      display: none;\n",
              "      fill: #1967D2;\n",
              "      height: 32px;\n",
              "      padding: 0 0 0 0;\n",
              "      width: 32px;\n",
              "    }\n",
              "\n",
              "    .colab-df-convert:hover {\n",
              "      background-color: #E2EBFA;\n",
              "      box-shadow: 0px 1px 2px rgba(60, 64, 67, 0.3), 0px 1px 3px 1px rgba(60, 64, 67, 0.15);\n",
              "      fill: #174EA6;\n",
              "    }\n",
              "\n",
              "    [theme=dark] .colab-df-convert {\n",
              "      background-color: #3B4455;\n",
              "      fill: #D2E3FC;\n",
              "    }\n",
              "\n",
              "    [theme=dark] .colab-df-convert:hover {\n",
              "      background-color: #434B5C;\n",
              "      box-shadow: 0px 1px 3px 1px rgba(0, 0, 0, 0.15);\n",
              "      filter: drop-shadow(0px 1px 2px rgba(0, 0, 0, 0.3));\n",
              "      fill: #FFFFFF;\n",
              "    }\n",
              "  </style>\n",
              "\n",
              "      <script>\n",
              "        const buttonEl =\n",
              "          document.querySelector('#df-f21c6053-90dd-4997-86be-ff064779036b button.colab-df-convert');\n",
              "        buttonEl.style.display =\n",
              "          google.colab.kernel.accessAllowed ? 'block' : 'none';\n",
              "\n",
              "        async function convertToInteractive(key) {\n",
              "          const element = document.querySelector('#df-f21c6053-90dd-4997-86be-ff064779036b');\n",
              "          const dataTable =\n",
              "            await google.colab.kernel.invokeFunction('convertToInteractive',\n",
              "                                                     [key], {});\n",
              "          if (!dataTable) return;\n",
              "\n",
              "          const docLinkHtml = 'Like what you see? Visit the ' +\n",
              "            '<a target=\"_blank\" href=https://colab.research.google.com/notebooks/data_table.ipynb>data table notebook</a>'\n",
              "            + ' to learn more about interactive tables.';\n",
              "          element.innerHTML = '';\n",
              "          dataTable['output_type'] = 'display_data';\n",
              "          await google.colab.output.renderOutput(dataTable, element);\n",
              "          const docLink = document.createElement('div');\n",
              "          docLink.innerHTML = docLinkHtml;\n",
              "          element.appendChild(docLink);\n",
              "        }\n",
              "      </script>\n",
              "    </div>\n",
              "  </div>\n",
              "  "
            ]
          },
          "metadata": {},
          "execution_count": 65
        }
      ]
    },
    {
      "cell_type": "code",
      "source": [
        "sns.boxplot(data['floor'])"
      ],
      "metadata": {
        "colab": {
          "base_uri": "https://localhost:8080/",
          "height": 354
        },
        "id": "Vh1PfDwDE9st",
        "outputId": "3a6fb919-2d09-475a-acef-a7bee0b6e4c8"
      },
      "execution_count": null,
      "outputs": [
        {
          "output_type": "stream",
          "name": "stderr",
          "text": [
            "/usr/local/lib/python3.7/dist-packages/seaborn/_decorators.py:43: FutureWarning: Pass the following variable as a keyword arg: x. From version 0.12, the only valid positional argument will be `data`, and passing other arguments without an explicit keyword will result in an error or misinterpretation.\n",
            "  FutureWarning\n"
          ]
        },
        {
          "output_type": "execute_result",
          "data": {
            "text/plain": [
              "<matplotlib.axes._subplots.AxesSubplot at 0x7fabb41e9ed0>"
            ]
          },
          "metadata": {},
          "execution_count": 66
        },
        {
          "output_type": "display_data",
          "data": {
            "text/plain": [
              "<Figure size 432x288 with 1 Axes>"
            ],
            "image/png": "[encoded data removed]"
          },
          "metadata": {
            "needs_background": "light"
          }
        }
      ]
    },
    {
      "cell_type": "code",
      "source": [
        "plt.figure(figsize=(15,12))\n",
        "sample_data = data.sample(200,random_state=23)\n",
        "sns.scatterplot(data=sample_data, x=\"livingSpace\", y=\"floor\", size=\"totalRent\", legend=False, sizes=(20, 2000))\n",
        "\n",
        "plt.show()"
      ],
      "metadata": {
        "colab": {
          "base_uri": "https://localhost:8080/",
          "height": 714
        },
        "id": "uJmpVNVftmwF",
        "outputId": "08863a30-ff1a-481f-da1f-a6a0bc69643f"
      },
      "execution_count": null,
      "outputs": [
        {
          "output_type": "display_data",
          "data": {
            "text/plain": [
              "<Figure size 1080x864 with 1 Axes>"
            ],
            "image/png": "[encoded data removed]"
          },
          "metadata": {
            "needs_background": "light"
          }
        }
      ]
    },
    {
      "cell_type": "code",
      "source": [
        "plt.figure(figsize=(18,12))\n",
        "g = plt.pie(data.regio1.value_counts(), labels= data.regio1.value_counts().index, autopct='%1.1f%%', startangle=180)\n",
        "plt.show()"
      ],
      "metadata": {
        "colab": {
          "base_uri": "https://localhost:8080/",
          "height": 683
        },
        "id": "VUDkl-vDjNgN",
        "outputId": "9d99b64b-2188-4b55-ca00-c3f1acb0502a"
      },
      "execution_count": null,
      "outputs": [
        {
          "output_type": "display_data",
          "data": {
            "text/plain": [
              "<Figure size 1296x864 with 1 Axes>"
            ],
            "image/png": "[encoded data removed]"
          },
          "metadata": {}
        }
      ]
    },
    {
      "cell_type": "code",
      "source": [
        "plt.figure(figsize=(12,12))\n",
        "\n",
        "y_pos = np.arange(len(data.floor.unique()))\n",
        "plt.bar(y_pos, data.groupby(['floor']).baseRent.mean())\n",
        "plt.xticks(y_pos, data.floor.unique())\n",
        "plt.show()"
      ],
      "metadata": {
        "colab": {
          "base_uri": "https://localhost:8080/",
          "height": 703
        },
        "id": "j8NWz2QPe7j4",
        "outputId": "7b350c05-ca5a-4512-ed38-9fc6eaf10fe9"
      },
      "execution_count": null,
      "outputs": [
        {
          "output_type": "display_data",
          "data": {
            "text/plain": [
              "<Figure size 864x864 with 1 Axes>"
            ],
            "image/png": "[encoded data removed]"
          },
          "metadata": {}
        }
      ]
    },
    {
      "cell_type": "code",
      "source": [
        "data = data.replace({True:1, False:0})"
      ],
      "metadata": {
        "id": "zt66ZXXuyD3-"
      },
      "execution_count": null,
      "outputs": []
    },
    {
      "cell_type": "code",
      "source": [
        "len(data.telekomTvOffer.unique())"
      ],
      "metadata": {
        "colab": {
          "base_uri": "https://localhost:8080/"
        },
        "id": "l2nUv34Z5vj1",
        "outputId": "953e1de0-44a1-40f8-e7d6-d8775ee9a0b6"
      },
      "execution_count": null,
      "outputs": [
        {
          "output_type": "execute_result",
          "data": {
            "text/plain": [
              "3"
            ]
          },
          "metadata": {},
          "execution_count": 98
        }
      ]
    },
    {
      "cell_type": "code",
      "source": [
        "le = preprocessing.LabelEncoder()\n",
        "\n",
        "data['telekomTvoffer'] = le.fit_transform(data.telekomTvOffer)\n",
        "data.drop(columns=['telekomTvOffer'], inplace=True)"
      ],
      "metadata": {
        "id": "Qb-Ie5RiyZdC"
      },
      "execution_count": null,
      "outputs": []
    },
    {
      "cell_type": "code",
      "source": [
        "len(data.regio1.unique())"
      ],
      "metadata": {
        "colab": {
          "base_uri": "https://localhost:8080/"
        },
        "id": "aJ7_aOzy7VoU",
        "outputId": "1c356512-b13a-4a73-cb0c-3a72c5ef554d"
      },
      "execution_count": null,
      "outputs": [
        {
          "output_type": "execute_result",
          "data": {
            "text/plain": [
              "16"
            ]
          },
          "metadata": {},
          "execution_count": 100
        }
      ]
    },
    {
      "cell_type": "code",
      "source": [
        "te = TargetEncoder()\n",
        "data['regio'] = te.fit_transform(data['regio1'], data['totalRent'])"
      ],
      "metadata": {
        "id": "rwflkKT86Eq_"
      },
      "execution_count": null,
      "outputs": []
    },
    {
      "cell_type": "code",
      "source": [
        "te = TargetEncoder()\n",
        "data['heatingtype'] = te.fit_transform(data['heatingType'], data['totalRent'])"
      ],
      "metadata": {
        "id": "DmQcyl_oyZ5z"
      },
      "execution_count": null,
      "outputs": []
    },
    {
      "cell_type": "code",
      "source": [
        "te = TargetEncoder()\n",
        "data['typeofFlat'] = te.fit_transform(data['typeOfFlat'], data['totalRent'])"
      ],
      "metadata": {
        "id": "IyeGPmqN6tUZ"
      },
      "execution_count": null,
      "outputs": []
    },
    {
      "cell_type": "code",
      "source": [
        "data.drop(columns=['regio1', 'heatingType', 'typeOfFlat'], inplace=True)"
      ],
      "metadata": {
        "id": "dG3kEHrB5BBP"
      },
      "execution_count": null,
      "outputs": []
    },
    {
      "cell_type": "code",
      "source": [
        "data"
      ],
      "metadata": {
        "id": "fNM42erp7c9X",
        "colab": {
          "base_uri": "https://localhost:8080/",
          "height": 468
        },
        "outputId": "34f6bce7-83cc-4fb8-d67b-cda9505d61cf"
      },
      "execution_count": null,
      "outputs": [
        {
          "output_type": "execute_result",
          "data": {
            "text/plain": [
              "        serviceCharge  newlyConst  balcony  pricetrend  telekomUploadSpeed  \\\n",
              "0              245.00           0        0        4.62                10.0   \n",
              "2              255.00           1        1        2.72                 2.4   \n",
              "3               58.15           0        1        1.53                40.0   \n",
              "4              138.00           0        1        2.46                 0.0   \n",
              "6               70.00           0        0        1.01                 2.4   \n",
              "...               ...         ...      ...         ...                 ...   \n",
              "268844          80.00           0        0        2.58                 2.4   \n",
              "268845          90.00           0        1        2.74                10.0   \n",
              "268846         220.00           0        1        6.49                 0.0   \n",
              "268847         220.00           0        1        2.90                40.0   \n",
              "268848         175.00           1        1        4.39                 0.0   \n",
              "\n",
              "        totalRent  hasKitchen  cellar  baseRent  livingSpace  lift  noRooms  \\\n",
              "0          840.00           0       1     595.0        86.00     0      4.0   \n",
              "2         1300.00           0       1     965.0        83.80     1      3.0   \n",
              "3          488.38           0       0     343.0        58.15     0      3.0   \n",
              "4          903.00           0       0     765.0        84.97     0      3.0   \n",
              "6          380.00           0       1     310.0        62.00     0      2.0   \n",
              "...           ...         ...     ...       ...          ...   ...      ...   \n",
              "268844     670.00           0       0     590.0        85.00     0      3.0   \n",
              "268845     910.00           0       1     820.0        90.00     0      3.0   \n",
              "268846    1150.00           1       0     930.0       115.00     0      3.5   \n",
              "268847     930.00           0       1     650.0        95.00     0      4.0   \n",
              "268848    1015.00           0       1     840.0        70.00     1      2.0   \n",
              "\n",
              "        floor  numberOfFloors  garden  telekomTvoffer       regio  \\\n",
              "0         1.0             3.0       1               1  676.340922   \n",
              "2         3.0             4.0       0               1  516.805598   \n",
              "3         3.0             3.0       0               1  516.805598   \n",
              "4         1.0             1.0       0               1  704.810857   \n",
              "6         1.0             4.0       1               1  516.805598   \n",
              "...       ...             ...     ...             ...         ...   \n",
              "268844    3.0             3.0       0               1  676.340922   \n",
              "268845    1.0             3.0       0               1  867.319319   \n",
              "268846    1.0             1.0       0               1  876.815705   \n",
              "268847    1.0             2.0       1               1  876.815705   \n",
              "268848    1.0             5.0       0               1  676.340922   \n",
              "\n",
              "        heatingtype  typeofFlat  \n",
              "0        625.962021  661.081806  \n",
              "2        962.902160  637.329941  \n",
              "3        604.582022  633.068787  \n",
              "4        621.337150  637.329941  \n",
              "6        621.337150  637.329941  \n",
              "...             ...         ...  \n",
              "268844   684.360690  643.042335  \n",
              "268845   978.071891  643.042335  \n",
              "268846   684.360690  637.329941  \n",
              "268847   625.962021  637.329941  \n",
              "268848   978.071891  637.329941  \n",
              "\n",
              "[196490 rows x 19 columns]"
            ],
            "text/html": [
              "\n",
              "  <div id=\"df-f5103ae1-2992-4984-980b-5b2b3858bf6c\">\n",
              "    <div class=\"colab-df-container\">\n",
              "      <div>\n",
              "<style scoped>\n",
              "    .dataframe tbody tr th:only-of-type {\n",
              "        vertical-align: middle;\n",
              "    }\n",
              "\n",
              "    .dataframe tbody tr th {\n",
              "        vertical-align: top;\n",
              "    }\n",
              "\n",
              "    .dataframe thead th {\n",
              "        text-align: right;\n",
              "    }\n",
              "</style>\n",
              "<table border=\"1\" class=\"dataframe\">\n",
              "  <thead>\n",
              "    <tr style=\"text-align: right;\">\n",
              "      <th></th>\n",
              "      <th>serviceCharge</th>\n",
              "      <th>newlyConst</th>\n",
              "      <th>balcony</th>\n",
              "      <th>pricetrend</th>\n",
              "      <th>telekomUploadSpeed</th>\n",
              "      <th>totalRent</th>\n",
              "      <th>hasKitchen</th>\n",
              "      <th>cellar</th>\n",
              "      <th>baseRent</th>\n",
              "      <th>livingSpace</th>\n",
              "      <th>lift</th>\n",
              "      <th>noRooms</th>\n",
              "      <th>floor</th>\n",
              "      <th>numberOfFloors</th>\n",
              "      <th>garden</th>\n",
              "      <th>telekomTvoffer</th>\n",
              "      <th>regio</th>\n",
              "      <th>heatingtype</th>\n",
              "      <th>typeofFlat</th>\n",
              "    </tr>\n",
              "  </thead>\n",
              "  <tbody>\n",
              "    <tr>\n",
              "      <th>0</th>\n",
              "      <td>245.00</td>\n",
              "      <td>0</td>\n",
              "      <td>0</td>\n",
              "      <td>4.62</td>\n",
              "      <td>10.0</td>\n",
              "      <td>840.00</td>\n",
              "      <td>0</td>\n",
              "      <td>1</td>\n",
              "      <td>595.0</td>\n",
              "      <td>86.00</td>\n",
              "      <td>0</td>\n",
              "      <td>4.0</td>\n",
              "      <td>1.0</td>\n",
              "      <td>3.0</td>\n",
              "      <td>1</td>\n",
              "      <td>1</td>\n",
              "      <td>676.340922</td>\n",
              "      <td>625.962021</td>\n",
              "      <td>661.081806</td>\n",
              "    </tr>\n",
              "    <tr>\n",
              "      <th>2</th>\n",
              "      <td>255.00</td>\n",
              "      <td>1</td>\n",
              "      <td>1</td>\n",
              "      <td>2.72</td>\n",
              "      <td>2.4</td>\n",
              "      <td>1300.00</td>\n",
              "      <td>0</td>\n",
              "      <td>1</td>\n",
              "      <td>965.0</td>\n",
              "      <td>83.80</td>\n",
              "      <td>1</td>\n",
              "      <td>3.0</td>\n",
              "      <td>3.0</td>\n",
              "      <td>4.0</td>\n",
              "      <td>0</td>\n",
              "      <td>1</td>\n",
              "      <td>516.805598</td>\n",
              "      <td>962.902160</td>\n",
              "      <td>637.329941</td>\n",
              "    </tr>\n",
              "    <tr>\n",
              "      <th>3</th>\n",
              "      <td>58.15</td>\n",
              "      <td>0</td>\n",
              "      <td>1</td>\n",
              "      <td>1.53</td>\n",
              "      <td>40.0</td>\n",
              "      <td>488.38</td>\n",
              "      <td>0</td>\n",
              "      <td>0</td>\n",
              "      <td>343.0</td>\n",
              "      <td>58.15</td>\n",
              "      <td>0</td>\n",
              "      <td>3.0</td>\n",
              "      <td>3.0</td>\n",
              "      <td>3.0</td>\n",
              "      <td>0</td>\n",
              "      <td>1</td>\n",
              "      <td>516.805598</td>\n",
              "      <td>604.582022</td>\n",
              "      <td>633.068787</td>\n",
              "    </tr>\n",
              "    <tr>\n",
              "      <th>4</th>\n",
              "      <td>138.00</td>\n",
              "      <td>0</td>\n",
              "      <td>1</td>\n",
              "      <td>2.46</td>\n",
              "      <td>0.0</td>\n",
              "      <td>903.00</td>\n",
              "      <td>0</td>\n",
              "      <td>0</td>\n",
              "      <td>765.0</td>\n",
              "      <td>84.97</td>\n",
              "      <td>0</td>\n",
              "      <td>3.0</td>\n",
              "      <td>1.0</td>\n",
              "      <td>1.0</td>\n",
              "      <td>0</td>\n",
              "      <td>1</td>\n",
              "      <td>704.810857</td>\n",
              "      <td>621.337150</td>\n",
              "      <td>637.329941</td>\n",
              "    </tr>\n",
              "    <tr>\n",
              "      <th>6</th>\n",
              "      <td>70.00</td>\n",
              "      <td>0</td>\n",
              "      <td>0</td>\n",
              "      <td>1.01</td>\n",
              "      <td>2.4</td>\n",
              "      <td>380.00</td>\n",
              "      <td>0</td>\n",
              "      <td>1</td>\n",
              "      <td>310.0</td>\n",
              "      <td>62.00</td>\n",
              "      <td>0</td>\n",
              "      <td>2.0</td>\n",
              "      <td>1.0</td>\n",
              "      <td>4.0</td>\n",
              "      <td>1</td>\n",
              "      <td>1</td>\n",
              "      <td>516.805598</td>\n",
              "      <td>621.337150</td>\n",
              "      <td>637.329941</td>\n",
              "    </tr>\n",
              "    <tr>\n",
              "      <th>...</th>\n",
              "      <td>...</td>\n",
              "      <td>...</td>\n",
              "      <td>...</td>\n",
              "      <td>...</td>\n",
              "      <td>...</td>\n",
              "      <td>...</td>\n",
              "      <td>...</td>\n",
              "      <td>...</td>\n",
              "      <td>...</td>\n",
              "      <td>...</td>\n",
              "      <td>...</td>\n",
              "      <td>...</td>\n",
              "      <td>...</td>\n",
              "      <td>...</td>\n",
              "      <td>...</td>\n",
              "      <td>...</td>\n",
              "      <td>...</td>\n",
              "      <td>...</td>\n",
              "      <td>...</td>\n",
              "    </tr>\n",
              "    <tr>\n",
              "      <th>268844</th>\n",
              "      <td>80.00</td>\n",
              "      <td>0</td>\n",
              "      <td>0</td>\n",
              "      <td>2.58</td>\n",
              "      <td>2.4</td>\n",
              "      <td>670.00</td>\n",
              "      <td>0</td>\n",
              "      <td>0</td>\n",
              "      <td>590.0</td>\n",
              "      <td>85.00</td>\n",
              "      <td>0</td>\n",
              "      <td>3.0</td>\n",
              "      <td>3.0</td>\n",
              "      <td>3.0</td>\n",
              "      <td>0</td>\n",
              "      <td>1</td>\n",
              "      <td>676.340922</td>\n",
              "      <td>684.360690</td>\n",
              "      <td>643.042335</td>\n",
              "    </tr>\n",
              "    <tr>\n",
              "      <th>268845</th>\n",
              "      <td>90.00</td>\n",
              "      <td>0</td>\n",
              "      <td>1</td>\n",
              "      <td>2.74</td>\n",
              "      <td>10.0</td>\n",
              "      <td>910.00</td>\n",
              "      <td>0</td>\n",
              "      <td>1</td>\n",
              "      <td>820.0</td>\n",
              "      <td>90.00</td>\n",
              "      <td>0</td>\n",
              "      <td>3.0</td>\n",
              "      <td>1.0</td>\n",
              "      <td>3.0</td>\n",
              "      <td>0</td>\n",
              "      <td>1</td>\n",
              "      <td>867.319319</td>\n",
              "      <td>978.071891</td>\n",
              "      <td>643.042335</td>\n",
              "    </tr>\n",
              "    <tr>\n",
              "      <th>268846</th>\n",
              "      <td>220.00</td>\n",
              "      <td>0</td>\n",
              "      <td>1</td>\n",
              "      <td>6.49</td>\n",
              "      <td>0.0</td>\n",
              "      <td>1150.00</td>\n",
              "      <td>1</td>\n",
              "      <td>0</td>\n",
              "      <td>930.0</td>\n",
              "      <td>115.00</td>\n",
              "      <td>0</td>\n",
              "      <td>3.5</td>\n",
              "      <td>1.0</td>\n",
              "      <td>1.0</td>\n",
              "      <td>0</td>\n",
              "      <td>1</td>\n",
              "      <td>876.815705</td>\n",
              "      <td>684.360690</td>\n",
              "      <td>637.329941</td>\n",
              "    </tr>\n",
              "    <tr>\n",
              "      <th>268847</th>\n",
              "      <td>220.00</td>\n",
              "      <td>0</td>\n",
              "      <td>1</td>\n",
              "      <td>2.90</td>\n",
              "      <td>40.0</td>\n",
              "      <td>930.00</td>\n",
              "      <td>0</td>\n",
              "      <td>1</td>\n",
              "      <td>650.0</td>\n",
              "      <td>95.00</td>\n",
              "      <td>0</td>\n",
              "      <td>4.0</td>\n",
              "      <td>1.0</td>\n",
              "      <td>2.0</td>\n",
              "      <td>1</td>\n",
              "      <td>1</td>\n",
              "      <td>876.815705</td>\n",
              "      <td>625.962021</td>\n",
              "      <td>637.329941</td>\n",
              "    </tr>\n",
              "    <tr>\n",
              "      <th>268848</th>\n",
              "      <td>175.00</td>\n",
              "      <td>1</td>\n",
              "      <td>1</td>\n",
              "      <td>4.39</td>\n",
              "      <td>0.0</td>\n",
              "      <td>1015.00</td>\n",
              "      <td>0</td>\n",
              "      <td>1</td>\n",
              "      <td>840.0</td>\n",
              "      <td>70.00</td>\n",
              "      <td>1</td>\n",
              "      <td>2.0</td>\n",
              "      <td>1.0</td>\n",
              "      <td>5.0</td>\n",
              "      <td>0</td>\n",
              "      <td>1</td>\n",
              "      <td>676.340922</td>\n",
              "      <td>978.071891</td>\n",
              "      <td>637.329941</td>\n",
              "    </tr>\n",
              "  </tbody>\n",
              "</table>\n",
              "<p>196490 rows × 19 columns</p>\n",
              "</div>\n",
              "      <button class=\"colab-df-convert\" onclick=\"convertToInteractive('df-f5103ae1-2992-4984-980b-5b2b3858bf6c')\"\n",
              "              title=\"Convert this dataframe to an interactive table.\"\n",
              "              style=\"display:none;\">\n",
              "        \n",
              "  <svg xmlns=\"http://www.w3.org/2000/svg\" height=\"24px\"viewBox=\"0 0 24 24\"\n",
              "       width=\"24px\">\n",
              "    <path d=\"M0 0h24v24H0V0z\" fill=\"none\"/>\n",
              "    <path d=\"M18.56 5.44l.94 2.06.94-2.06 2.06-.94-2.06-.94-.94-2.06-.94 2.06-2.06.94zm-11 1L8.5 8.5l.94-2.06 2.06-.94-2.06-.94L8.5 2.5l-.94 2.06-2.06.94zm10 10l.94 2.06.94-2.06 2.06-.94-2.06-.94-.94-2.06-.94 2.06-2.06.94z\"/><path d=\"M17.41 7.96l-1.37-1.37c-.4-.4-.92-.59-1.43-.59-.52 0-1.04.2-1.43.59L10.3 9.45l-7.72 7.72c-.78.78-.78 2.05 0 2.83L4 21.41c.39.39.9.59 1.41.59.51 0 1.02-.2 1.41-.59l7.78-7.78 2.81-2.81c.8-.78.8-2.07 0-2.86zM5.41 20L4 18.59l7.72-7.72 1.47 1.35L5.41 20z\"/>\n",
              "  </svg>\n",
              "      </button>\n",
              "      \n",
              "  <style>\n",
              "    .colab-df-container {\n",
              "      display:flex;\n",
              "      flex-wrap:wrap;\n",
              "      gap: 12px;\n",
              "    }\n",
              "\n",
              "    .colab-df-convert {\n",
              "      background-color: #E8F0FE;\n",
              "      border: none;\n",
              "      border-radius: 50%;\n",
              "      cursor: pointer;\n",
              "      display: none;\n",
              "      fill: #1967D2;\n",
              "      height: 32px;\n",
              "      padding: 0 0 0 0;\n",
              "      width: 32px;\n",
              "    }\n",
              "\n",
              "    .colab-df-convert:hover {\n",
              "      background-color: #E2EBFA;\n",
              "      box-shadow: 0px 1px 2px rgba(60, 64, 67, 0.3), 0px 1px 3px 1px rgba(60, 64, 67, 0.15);\n",
              "      fill: #174EA6;\n",
              "    }\n",
              "\n",
              "    [theme=dark] .colab-df-convert {\n",
              "      background-color: #3B4455;\n",
              "      fill: #D2E3FC;\n",
              "    }\n",
              "\n",
              "    [theme=dark] .colab-df-convert:hover {\n",
              "      background-color: #434B5C;\n",
              "      box-shadow: 0px 1px 3px 1px rgba(0, 0, 0, 0.15);\n",
              "      filter: drop-shadow(0px 1px 2px rgba(0, 0, 0, 0.3));\n",
              "      fill: #FFFFFF;\n",
              "    }\n",
              "  </style>\n",
              "\n",
              "      <script>\n",
              "        const buttonEl =\n",
              "          document.querySelector('#df-f5103ae1-2992-4984-980b-5b2b3858bf6c button.colab-df-convert');\n",
              "        buttonEl.style.display =\n",
              "          google.colab.kernel.accessAllowed ? 'block' : 'none';\n",
              "\n",
              "        async function convertToInteractive(key) {\n",
              "          const element = document.querySelector('#df-f5103ae1-2992-4984-980b-5b2b3858bf6c');\n",
              "          const dataTable =\n",
              "            await google.colab.kernel.invokeFunction('convertToInteractive',\n",
              "                                                     [key], {});\n",
              "          if (!dataTable) return;\n",
              "\n",
              "          const docLinkHtml = 'Like what you see? Visit the ' +\n",
              "            '<a target=\"_blank\" href=https://colab.research.google.com/notebooks/data_table.ipynb>data table notebook</a>'\n",
              "            + ' to learn more about interactive tables.';\n",
              "          element.innerHTML = '';\n",
              "          dataTable['output_type'] = 'display_data';\n",
              "          await google.colab.output.renderOutput(dataTable, element);\n",
              "          const docLink = document.createElement('div');\n",
              "          docLink.innerHTML = docLinkHtml;\n",
              "          element.appendChild(docLink);\n",
              "        }\n",
              "      </script>\n",
              "    </div>\n",
              "  </div>\n",
              "  "
            ]
          },
          "metadata": {},
          "execution_count": 105
        }
      ]
    },
    {
      "cell_type": "code",
      "source": [],
      "metadata": {
        "id": "GFg5kBRqEp82"
      },
      "execution_count": null,
      "outputs": []
    }
  ]
}